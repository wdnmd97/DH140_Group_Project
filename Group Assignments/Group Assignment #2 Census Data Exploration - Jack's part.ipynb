{
 "cells": [
  {
   "cell_type": "markdown",
   "metadata": {},
   "source": [
    "# Vaccine Tweets Geological Data Exploration\n",
    "\n",
    "* Authors: \n",
    "    * Kai Watanabe \n",
    "    * Yueshuwei Wu\n",
    "* Description:\n",
    "    <br/> This time's data exploration analysis will focus on the geological distribution of the tweets we have. We first used the geotext library to extract user's geographical inofrmation from provided descriptions. Based on the distribution of users' locations, we picked New York, Chicago and Los Angeles to futher investigate the connection between tweeting behavior and city/county's race profile."
   ]
  },
  {
   "cell_type": "markdown",
   "metadata": {},
   "source": [
    "## Importing Dataset From Kaggle\n",
    "\n",
    "* Since this Pfizer Vaccine Tweets dataset is continually updating, we want to pull the dataset directly from Kaggle using the provided API.\n",
    "* To use the Kaggle API, you need to do the following:\n",
    "    * Go to your account, Scroll to API section and Click Expire API Token to remove previous tokens.\n",
    "    * Click on Create New API Token - It will download kaggle.json file on your machine.\n",
    "    * now just put it in the location C:\\Users\\(your user name)\\.kaggle."
   ]
  },
  {
   "cell_type": "code",
   "execution_count": 162,
   "metadata": {},
   "outputs": [],
   "source": [
    "# uncomment the next line if you are running this notebook on a local machine.\n",
    "#!pip install kaggle\n",
    "from kaggle.api.kaggle_api_extended import KaggleApi\n",
    "from zipfile import ZipFile\n",
    "api = KaggleApi()\n",
    "api.authenticate()\n",
    "api.dataset_download_files('gpreda/pfizer-vaccine-tweets')\n",
    "\n",
    "# Access the dataset just download.\n",
    "zf = ZipFile('pfizer-vaccine-tweets.zip')\n",
    "#extracted data is saved in the same directory as notebook\n",
    "zf.extractall() \n",
    "zf.close()"
   ]
  },
  {
   "cell_type": "markdown",
   "metadata": {},
   "source": [
    "## Data pre-processing\n",
    "### Import Tools"
   ]
  },
  {
   "cell_type": "code",
   "execution_count": 163,
   "metadata": {},
   "outputs": [],
   "source": [
    "import pandas as pd"
   ]
  },
  {
   "cell_type": "markdown",
   "metadata": {},
   "source": [
    "### Load the dataset, check variable names and amount of data points."
   ]
  },
  {
   "cell_type": "code",
   "execution_count": 164,
   "metadata": {},
   "outputs": [
    {
     "name": "stdout",
     "output_type": "stream",
     "text": [
      "Index(['id', 'user_name', 'user_location', 'user_description', 'user_created',\n",
      "       'user_followers', 'user_friends', 'user_favourites', 'user_verified',\n",
      "       'date', 'text', 'hashtags', 'source', 'retweets', 'favorites',\n",
      "       'is_retweet'],\n",
      "      dtype='object')\n",
      "(4560, 16)\n"
     ]
    }
   ],
   "source": [
    "df_tweets = pd.read_csv('vaccination_tweets.csv',dtype={ 'user_location':str})\n",
    "print(df_tweets.columns)\n",
    "print(df_tweets.shape)"
   ]
  },
  {
   "cell_type": "markdown",
   "metadata": {},
   "source": [
    "### Cleaning\n",
    "<br/> Now we drop the columns that we will not use for this assignment. This cell may be modified for future needs."
   ]
  },
  {
   "cell_type": "code",
   "execution_count": 165,
   "metadata": {},
   "outputs": [
    {
     "name": "stdout",
     "output_type": "stream",
     "text": [
      "Index(['id', 'user_name', 'user_location', 'user_created', 'user_followers',\n",
      "       'user_friends', 'user_favourites', 'user_verified', 'date', 'text',\n",
      "       'source', 'retweets', 'favorites', 'is_retweet'],\n",
      "      dtype='object')\n",
      "(4560, 14)\n"
     ]
    }
   ],
   "source": [
    "df_tweets.drop(columns=['user_description','hashtags'], inplace=True)\n",
    "print(df_tweets.columns)\n",
    "print(df_tweets.shape)"
   ]
  },
  {
   "cell_type": "markdown",
   "metadata": {},
   "source": [
    "## Extracting user's locations.\n",
    "Some users had proveded descriptions about their location but not necessarily the exact address. We want to at least extract the city and country information of the user. To accomplish this task, we will us a library call Geotext.This library allow us to extract city name and country code without going through the NLP hassle. The geological information will be used to guide the direction of this research. \n",
    "### Import GeoText"
   ]
  },
  {
   "cell_type": "code",
   "execution_count": 166,
   "metadata": {},
   "outputs": [
    {
     "name": "stdout",
     "output_type": "stream",
     "text": [
      "Requirement already satisfied: geotext in c:\\users\\wuyue\\anaconda3\\lib\\site-packages (0.4.0)\n"
     ]
    }
   ],
   "source": [
    "!pip install geotext\n",
    "from geotext import GeoText"
   ]
  },
  {
   "cell_type": "markdown",
   "metadata": {},
   "source": [
    "### How GeoText works?"
   ]
  },
  {
   "cell_type": "code",
   "execution_count": 167,
   "metadata": {},
   "outputs": [
    {
     "name": "stdout",
     "output_type": "stream",
     "text": [
      "[]\n",
      "['London']\n",
      "GB\n",
      "tada!\n"
     ]
    }
   ],
   "source": [
    "# must import the method in next line to extract keys from ordered dictionary\n",
    "from collections import OrderedDict \n",
    "places1 = GeoText(\"my bed\")\n",
    "print(places1.cities)\n",
    "# prints empty list []\n",
    "places2 = GeoText(\"London is a great city\")\n",
    "print(places2.cities)\n",
    "# prints ['London']\n",
    "print(list(places2.country_mentions.keys())[0])\n",
    "print(\"tada!\")"
   ]
  },
  {
   "cell_type": "markdown",
   "metadata": {},
   "source": [
    "To make full use of it, we need to import one more library"
   ]
  },
  {
   "cell_type": "code",
   "execution_count": 168,
   "metadata": {},
   "outputs": [
    {
     "name": "stdout",
     "output_type": "stream",
     "text": [
      "odict_keys(['a', 'b', 'c', 'd'])\n"
     ]
    }
   ],
   "source": [
    "from collections import OrderedDict \n",
    "od = OrderedDict() \n",
    "od['a'] = 1\n",
    "od['b'] = 2\n",
    "od['c'] = 3\n",
    "od['d'] = 4\n",
    "print(od.keys())"
   ]
  },
  {
   "cell_type": "markdown",
   "metadata": {},
   "source": [
    "### Further cleaning\n",
    "Since we cannot extract locations from numbers or null entries we should drop the rows that user_location is not string. It's okay to have empty string as location description, Geotext will figure it out. \n",
    "<br/> This cell is optional, you can specify the location description to be string when loading the dataset. But if the location description is not string, then that row is likely to cause error later."
   ]
  },
  {
   "cell_type": "code",
   "execution_count": 169,
   "metadata": {},
   "outputs": [
    {
     "data": {
      "text/plain": [
       "(3626, 14)"
      ]
     },
     "execution_count": 169,
     "metadata": {},
     "output_type": "execute_result"
    }
   ],
   "source": [
    "indexes_to_drop = []\n",
    "for index, row in df_tweets.iterrows():\n",
    "    if type(row['user_location']) is not str:\n",
    "        indexes_to_drop.append(df_tweets.index[index])\n",
    "    \n",
    "df_tweets.drop(indexes_to_drop, inplace=True)\n",
    "df_tweets.shape"
   ]
  },
  {
   "cell_type": "markdown",
   "metadata": {},
   "source": [
    "We lost about 900 data points, but we still have about 3626 left.\n",
    "### Finally, extracting location data\n",
    "<br/>Next we will extract and assign the city names to the each data point."
   ]
  },
  {
   "cell_type": "code",
   "execution_count": 170,
   "metadata": {},
   "outputs": [],
   "source": [
    "from collections import OrderedDict \n",
    "user_city = []\n",
    "user_country = []\n",
    "for index, row in df_tweets.iterrows():\n",
    "    if GeoText(row['user_location']).cities:\n",
    "        user_city.append(GeoText(row['user_location']).cities[0])\n",
    "        user_country.append(list(GeoText(row['user_location']).country_mentions.keys())[0])\n",
    "    else:\n",
    "        user_city.append('')\n",
    "        user_country.append('')\n",
    "\n",
    "df_tweets['user_city'] = user_city\n",
    "df_tweets['user_country'] = user_country"
   ]
  },
  {
   "cell_type": "markdown",
   "metadata": {},
   "source": [
    "## Analysis\n",
    "### Number of tweets per location\n",
    "We want to see which cities' users are more likely to tweet about the vaccines. This can be done by appling the value_count() method."
   ]
  },
  {
   "cell_type": "code",
   "execution_count": 171,
   "metadata": {},
   "outputs": [
    {
     "data": {
      "text/html": [
       "<div>\n",
       "<style scoped>\n",
       "    .dataframe tbody tr th:only-of-type {\n",
       "        vertical-align: middle;\n",
       "    }\n",
       "\n",
       "    .dataframe tbody tr th {\n",
       "        vertical-align: top;\n",
       "    }\n",
       "\n",
       "    .dataframe thead th {\n",
       "        text-align: right;\n",
       "    }\n",
       "</style>\n",
       "<table border=\"1\" class=\"dataframe\">\n",
       "  <thead>\n",
       "    <tr style=\"text-align: right;\">\n",
       "      <th></th>\n",
       "      <th>user_city</th>\n",
       "    </tr>\n",
       "  </thead>\n",
       "  <tbody>\n",
       "    <tr>\n",
       "      <th></th>\n",
       "      <td>1804</td>\n",
       "    </tr>\n",
       "    <tr>\n",
       "      <th>London</th>\n",
       "      <td>170</td>\n",
       "    </tr>\n",
       "    <tr>\n",
       "      <th>Dubai</th>\n",
       "      <td>59</td>\n",
       "    </tr>\n",
       "    <tr>\n",
       "      <th>New York</th>\n",
       "      <td>50</td>\n",
       "    </tr>\n",
       "    <tr>\n",
       "      <th>New Delhi</th>\n",
       "      <td>46</td>\n",
       "    </tr>\n",
       "    <tr>\n",
       "      <th>Toronto</th>\n",
       "      <td>40</td>\n",
       "    </tr>\n",
       "    <tr>\n",
       "      <th>Mumbai</th>\n",
       "      <td>39</td>\n",
       "    </tr>\n",
       "    <tr>\n",
       "      <th>Watford</th>\n",
       "      <td>37</td>\n",
       "    </tr>\n",
       "    <tr>\n",
       "      <th>Glasgow</th>\n",
       "      <td>37</td>\n",
       "    </tr>\n",
       "    <tr>\n",
       "      <th>Cornwall</th>\n",
       "      <td>35</td>\n",
       "    </tr>\n",
       "  </tbody>\n",
       "</table>\n",
       "</div>"
      ],
      "text/plain": [
       "           user_city\n",
       "                1804\n",
       "London           170\n",
       "Dubai             59\n",
       "New York          50\n",
       "New Delhi         46\n",
       "Toronto           40\n",
       "Mumbai            39\n",
       "Watford           37\n",
       "Glasgow           37\n",
       "Cornwall          35"
      ]
     },
     "execution_count": 171,
     "metadata": {},
     "output_type": "execute_result"
    }
   ],
   "source": [
    "df_tweets['user_city'].value_counts().to_frame().head(10)"
   ]
  },
  {
   "cell_type": "markdown",
   "metadata": {},
   "source": [
    "Repeat the same procedure for countries."
   ]
  },
  {
   "cell_type": "code",
   "execution_count": 172,
   "metadata": {
    "scrolled": true
   },
   "outputs": [
    {
     "data": {
      "text/html": [
       "<div>\n",
       "<style scoped>\n",
       "    .dataframe tbody tr th:only-of-type {\n",
       "        vertical-align: middle;\n",
       "    }\n",
       "\n",
       "    .dataframe tbody tr th {\n",
       "        vertical-align: top;\n",
       "    }\n",
       "\n",
       "    .dataframe thead th {\n",
       "        text-align: right;\n",
       "    }\n",
       "</style>\n",
       "<table border=\"1\" class=\"dataframe\">\n",
       "  <thead>\n",
       "    <tr style=\"text-align: right;\">\n",
       "      <th></th>\n",
       "      <th>user_country</th>\n",
       "    </tr>\n",
       "  </thead>\n",
       "  <tbody>\n",
       "    <tr>\n",
       "      <th></th>\n",
       "      <td>1804</td>\n",
       "    </tr>\n",
       "    <tr>\n",
       "      <th>US</th>\n",
       "      <td>717</td>\n",
       "    </tr>\n",
       "    <tr>\n",
       "      <th>GB</th>\n",
       "      <td>397</td>\n",
       "    </tr>\n",
       "    <tr>\n",
       "      <th>IN</th>\n",
       "      <td>162</td>\n",
       "    </tr>\n",
       "    <tr>\n",
       "      <th>CA</th>\n",
       "      <td>147</td>\n",
       "    </tr>\n",
       "    <tr>\n",
       "      <th>AE</th>\n",
       "      <td>67</td>\n",
       "    </tr>\n",
       "    <tr>\n",
       "      <th>DE</th>\n",
       "      <td>32</td>\n",
       "    </tr>\n",
       "    <tr>\n",
       "      <th>IE</th>\n",
       "      <td>30</td>\n",
       "    </tr>\n",
       "    <tr>\n",
       "      <th>ZA</th>\n",
       "      <td>24</td>\n",
       "    </tr>\n",
       "    <tr>\n",
       "      <th>PH</th>\n",
       "      <td>22</td>\n",
       "    </tr>\n",
       "  </tbody>\n",
       "</table>\n",
       "</div>"
      ],
      "text/plain": [
       "    user_country\n",
       "            1804\n",
       "US           717\n",
       "GB           397\n",
       "IN           162\n",
       "CA           147\n",
       "AE            67\n",
       "DE            32\n",
       "IE            30\n",
       "ZA            24\n",
       "PH            22"
      ]
     },
     "execution_count": 172,
     "metadata": {},
     "output_type": "execute_result"
    }
   ],
   "source": [
    "df_tweets['user_country'].value_counts().to_frame().head(10)"
   ]
  },
  {
   "cell_type": "markdown",
   "metadata": {},
   "source": [
    "\n",
    "We can see that majority of tweets are from the United States (US) and the United Kingdom (GB). Another interesting observation is that more than one third of the UK tweets are from London, whereas the US tweets has a more \"sparse\" geographical distribution. The city that contributed most to the US tweets is New York, which contributed less than 10% of the US tweets. \n",
    "### User contributions\n",
    "The next step is to check if any user contributed significantly to the total counts."
   ]
  },
  {
   "cell_type": "code",
   "execution_count": 173,
   "metadata": {
    "scrolled": true
   },
   "outputs": [
    {
     "data": {
      "text/html": [
       "<div>\n",
       "<style scoped>\n",
       "    .dataframe tbody tr th:only-of-type {\n",
       "        vertical-align: middle;\n",
       "    }\n",
       "\n",
       "    .dataframe tbody tr th {\n",
       "        vertical-align: top;\n",
       "    }\n",
       "\n",
       "    .dataframe thead th {\n",
       "        text-align: right;\n",
       "    }\n",
       "</style>\n",
       "<table border=\"1\" class=\"dataframe\">\n",
       "  <thead>\n",
       "    <tr style=\"text-align: right;\">\n",
       "      <th></th>\n",
       "      <th>user_name</th>\n",
       "      <th>count</th>\n",
       "    </tr>\n",
       "  </thead>\n",
       "  <tbody>\n",
       "    <tr>\n",
       "      <th>0</th>\n",
       "      <td>Ian 3.5% #FBPE</td>\n",
       "      <td>33</td>\n",
       "    </tr>\n",
       "    <tr>\n",
       "      <th>1</th>\n",
       "      <td>Whtrslugcaviiersong#dontstayhomeandcatchcovid19</td>\n",
       "      <td>30</td>\n",
       "    </tr>\n",
       "    <tr>\n",
       "      <th>2</th>\n",
       "      <td>Simon Hodes ⬅️2m➡️ 😷</td>\n",
       "      <td>30</td>\n",
       "    </tr>\n",
       "    <tr>\n",
       "      <th>3</th>\n",
       "      <td>TheRag</td>\n",
       "      <td>29</td>\n",
       "    </tr>\n",
       "    <tr>\n",
       "      <th>4</th>\n",
       "      <td>ILKHA</td>\n",
       "      <td>29</td>\n",
       "    </tr>\n",
       "  </tbody>\n",
       "</table>\n",
       "</div>"
      ],
      "text/plain": [
       "                                         user_name  count\n",
       "0                                   Ian 3.5% #FBPE     33\n",
       "1  Whtrslugcaviiersong#dontstayhomeandcatchcovid19     30\n",
       "2                             Simon Hodes ⬅️2m➡️ 😷     30\n",
       "3                                           TheRag     29\n",
       "4                                            ILKHA     29"
      ]
     },
     "execution_count": 173,
     "metadata": {},
     "output_type": "execute_result"
    }
   ],
   "source": [
    "frequent_tweeters = df_tweets['user_name'].value_counts().head(15).to_frame().reset_index()\n",
    "frequent_tweeters.columns = ['user_name', 'count']\n",
    "frequent_tweeters.head(5)"
   ]
  },
  {
   "cell_type": "markdown",
   "metadata": {},
   "source": [
    "Now let's find out where are these user tweeting from so we can consider which cities will not be investigated."
   ]
  },
  {
   "cell_type": "code",
   "execution_count": 174,
   "metadata": {},
   "outputs": [
    {
     "data": {
      "text/plain": [
       "country  city    \n",
       "AE       Dubai       13\n",
       "CA       Cornwall    33\n",
       "GB       Watford     30\n",
       "         Glasgow     20\n",
       "Name: city, dtype: int64"
      ]
     },
     "execution_count": 174,
     "metadata": {},
     "output_type": "execute_result"
    }
   ],
   "source": [
    "cities = []\n",
    "countries = []\n",
    "for index, row in df_tweets.iterrows():\n",
    "    if row['user_name'] in list(frequent_tweeters['user_name']):\n",
    "        if row['user_city'] and row['user_country']:\n",
    "            cities.append(row['user_city'])\n",
    "            countries.append(row['user_country'])\n",
    "pairs = {'city': cities , 'country': countries}\n",
    "df = pd.DataFrame(pairs)\n",
    "df.groupby('country')['city'].value_counts()"
   ]
  },
  {
   "cell_type": "markdown",
   "metadata": {},
   "source": [
    "We can see these users contributed the majority of tweets from Cornwall Watford and Glasgow. we may study more closely what are they tweeting later, but for now we will exclude these cities from our study."
   ]
  },
  {
   "cell_type": "markdown",
   "metadata": {},
   "source": [
    "### What to investigate?\n",
    "Notice US users contributed nearly one fifth of the tweets, we want to take a look at the cities that cares most about vaccine. We also want to see what makes them stand out and possible reasons behind this. Taking the information above in to consideration, we decided to further investigate the differences of race profiles amoung those top tweeted cities.\n",
    "\n",
    "We firts seperate the US users from the dataset. we should have 717 data points."
   ]
  },
  {
   "cell_type": "code",
   "execution_count": 175,
   "metadata": {},
   "outputs": [
    {
     "data": {
      "text/plain": [
       "(717, 16)"
      ]
     },
     "execution_count": 175,
     "metadata": {},
     "output_type": "execute_result"
    }
   ],
   "source": [
    "df_UStweets = df_tweets.query(\"user_country == 'US'\")\n",
    "df_UStweets.shape"
   ]
  },
  {
   "cell_type": "markdown",
   "metadata": {},
   "source": [
    "Now we want to pick the cities we want to study, a value count will help us make our decision."
   ]
  },
  {
   "cell_type": "code",
   "execution_count": 176,
   "metadata": {},
   "outputs": [
    {
     "data": {
      "text/html": [
       "<div>\n",
       "<style scoped>\n",
       "    .dataframe tbody tr th:only-of-type {\n",
       "        vertical-align: middle;\n",
       "    }\n",
       "\n",
       "    .dataframe tbody tr th {\n",
       "        vertical-align: top;\n",
       "    }\n",
       "\n",
       "    .dataframe thead th {\n",
       "        text-align: right;\n",
       "    }\n",
       "</style>\n",
       "<table border=\"1\" class=\"dataframe\">\n",
       "  <thead>\n",
       "    <tr style=\"text-align: right;\">\n",
       "      <th></th>\n",
       "      <th>user_city</th>\n",
       "    </tr>\n",
       "  </thead>\n",
       "  <tbody>\n",
       "    <tr>\n",
       "      <th>New York</th>\n",
       "      <td>49</td>\n",
       "    </tr>\n",
       "    <tr>\n",
       "      <th>Chicago</th>\n",
       "      <td>28</td>\n",
       "    </tr>\n",
       "    <tr>\n",
       "      <th>Atlanta</th>\n",
       "      <td>22</td>\n",
       "    </tr>\n",
       "    <tr>\n",
       "      <th>Boston</th>\n",
       "      <td>21</td>\n",
       "    </tr>\n",
       "    <tr>\n",
       "      <th>Birmingham</th>\n",
       "      <td>20</td>\n",
       "    </tr>\n",
       "    <tr>\n",
       "      <th>Los Angeles</th>\n",
       "      <td>19</td>\n",
       "    </tr>\n",
       "  </tbody>\n",
       "</table>\n",
       "</div>"
      ],
      "text/plain": [
       "             user_city\n",
       "New York            49\n",
       "Chicago             28\n",
       "Atlanta             22\n",
       "Boston              21\n",
       "Birmingham          20\n",
       "Los Angeles         19"
      ]
     },
     "execution_count": 176,
     "metadata": {},
     "output_type": "execute_result"
    }
   ],
   "source": [
    "df_UStweets['user_city'].value_counts().to_frame().head(6)"
   ]
  },
  {
   "cell_type": "markdown",
   "metadata": {},
   "source": [
    "We observed that New York city and Chicago city has signifant more tweets than others. The rest of the cities on the list seems all have tweets around 20. Thus, for simplicity, we will analyze the race profiles of New York, Chicago and Los Angeles. This will be done by introducing the census data.\t"
   ]
  },
  {
   "cell_type": "markdown",
   "metadata": {},
   "source": [
    "### Using Census data\n",
    "Load the data, add blocks to solve the leading zero dilemma."
   ]
  },
  {
   "cell_type": "code",
   "execution_count": 177,
   "metadata": {},
   "outputs": [],
   "source": [
    "df_NY = pd.read_csv('Cities/New York County Race.csv',\n",
    "                   dtype=\n",
    "                    {\n",
    "                        'Geo_FIPS':str,\n",
    "                        'Geo_STATE':str,\n",
    "                        'Geo_COUNTY': str\n",
    "                    })\n",
    "df_CH = pd.read_csv('Cities/Chicago Race.csv',\n",
    "                   dtype=\n",
    "                    {\n",
    "                        'Geo_FIPS':str,\n",
    "                        'Geo_STATE':str,\n",
    "                        'Geo_COUNTY': str\n",
    "                    })\n",
    "df_LA = pd.read_csv('Cities/LA County Race.csv',\n",
    "                   dtype=\n",
    "                    {\n",
    "                        'Geo_FIPS':str,\n",
    "                        'Geo_STATE':str,\n",
    "                        'Geo_COUNTY': str\n",
    "                    })"
   ]
  },
  {
   "cell_type": "markdown",
   "metadata": {},
   "source": [
    "Confirm that our new dataframe has the correct datatypes.The zeros should be non-zero strings now."
   ]
  },
  {
   "cell_type": "code",
   "execution_count": 178,
   "metadata": {},
   "outputs": [
    {
     "name": "stdout",
     "output_type": "stream",
     "text": [
      "<class 'pandas.core.frame.DataFrame'>\n",
      "RangeIndex: 288 entries, 0 to 287\n",
      "Data columns (total 70 columns):\n",
      " #   Column             Non-Null Count  Dtype  \n",
      "---  ------             --------------  -----  \n",
      " 0   Geo_FIPS           288 non-null    object \n",
      " 1   Geo_GEOID          288 non-null    object \n",
      " 2   Geo_NAME           288 non-null    object \n",
      " 3   Geo_QName          288 non-null    object \n",
      " 4   Geo_STUSAB         288 non-null    object \n",
      " 5   Geo_SUMLEV         288 non-null    int64  \n",
      " 6   Geo_GEOCOMP        288 non-null    int64  \n",
      " 7   Geo_FILEID         288 non-null    object \n",
      " 8   Geo_LOGRECNO       288 non-null    int64  \n",
      " 9   Geo_US             0 non-null      float64\n",
      " 10  Geo_REGION         0 non-null      float64\n",
      " 11  Geo_DIVISION       0 non-null      float64\n",
      " 12  Geo_STATECE        0 non-null      float64\n",
      " 13  Geo_STATE          288 non-null    object \n",
      " 14  Geo_COUNTY         288 non-null    object \n",
      " 15  Geo_COUSUB         0 non-null      float64\n",
      " 16  Geo_PLACE          0 non-null      float64\n",
      " 17  Geo_PLACESE        0 non-null      float64\n",
      " 18  Geo_TRACT          288 non-null    int64  \n",
      " 19  Geo_BLKGRP         0 non-null      float64\n",
      " 20  Geo_CONCIT         0 non-null      float64\n",
      " 21  Geo_AIANHH         0 non-null      float64\n",
      " 22  Geo_AIANHHFP       0 non-null      float64\n",
      " 23  Geo_AIHHTLI        0 non-null      float64\n",
      " 24  Geo_AITSCE         0 non-null      float64\n",
      " 25  Geo_AITS           0 non-null      float64\n",
      " 26  Geo_ANRC           0 non-null      float64\n",
      " 27  Geo_CBSA           0 non-null      float64\n",
      " 28  Geo_CSA            0 non-null      float64\n",
      " 29  Geo_METDIV         0 non-null      float64\n",
      " 30  Geo_MACC           0 non-null      float64\n",
      " 31  Geo_MEMI           0 non-null      float64\n",
      " 32  Geo_NECTA          0 non-null      float64\n",
      " 33  Geo_CNECTA         0 non-null      float64\n",
      " 34  Geo_NECTADIV       0 non-null      float64\n",
      " 35  Geo_UA             0 non-null      float64\n",
      " 36  Geo_UACP           0 non-null      float64\n",
      " 37  Geo_CDCURR         0 non-null      float64\n",
      " 38  Geo_SLDU           0 non-null      float64\n",
      " 39  Geo_SLDL           0 non-null      float64\n",
      " 40  Geo_VTD            0 non-null      float64\n",
      " 41  Geo_ZCTA3          0 non-null      float64\n",
      " 42  Geo_ZCTA5          0 non-null      float64\n",
      " 43  Geo_SUBMCD         0 non-null      float64\n",
      " 44  Geo_SDELM          0 non-null      float64\n",
      " 45  Geo_SDSEC          0 non-null      float64\n",
      " 46  Geo_SDUNI          0 non-null      float64\n",
      " 47  Geo_UR             0 non-null      float64\n",
      " 48  Geo_PCI            0 non-null      float64\n",
      " 49  Geo_TAZ            0 non-null      float64\n",
      " 50  Geo_UGA            0 non-null      float64\n",
      " 51  Geo_BTTR           0 non-null      float64\n",
      " 52  Geo_BTBG           0 non-null      float64\n",
      " 53  Geo_PUMA5          0 non-null      float64\n",
      " 54  Geo_PUMA1          0 non-null      float64\n",
      " 55  SE_A03001_001      288 non-null    int64  \n",
      " 56  SE_A03001_002      288 non-null    int64  \n",
      " 57  SE_A03001_003      288 non-null    int64  \n",
      " 58  SE_A03001_004      288 non-null    int64  \n",
      " 59  SE_A03001_005      288 non-null    int64  \n",
      " 60  SE_A03001_006      288 non-null    int64  \n",
      " 61  SE_A03001_007      288 non-null    int64  \n",
      " 62  SE_A03001_008      288 non-null    int64  \n",
      " 63  PCT_SE_A03001_002  283 non-null    float64\n",
      " 64  PCT_SE_A03001_003  283 non-null    float64\n",
      " 65  PCT_SE_A03001_004  283 non-null    float64\n",
      " 66  PCT_SE_A03001_005  283 non-null    float64\n",
      " 67  PCT_SE_A03001_006  283 non-null    float64\n",
      " 68  PCT_SE_A03001_007  283 non-null    float64\n",
      " 69  PCT_SE_A03001_008  283 non-null    float64\n",
      "dtypes: float64(50), int64(12), object(8)\n",
      "memory usage: 157.6+ KB\n",
      "None\n",
      "<class 'pandas.core.frame.DataFrame'>\n",
      "RangeIndex: 1319 entries, 0 to 1318\n",
      "Data columns (total 70 columns):\n",
      " #   Column             Non-Null Count  Dtype  \n",
      "---  ------             --------------  -----  \n",
      " 0   Geo_FIPS           1319 non-null   object \n",
      " 1   Geo_GEOID          1319 non-null   object \n",
      " 2   Geo_NAME           1319 non-null   object \n",
      " 3   Geo_QName          1319 non-null   object \n",
      " 4   Geo_STUSAB         1319 non-null   object \n",
      " 5   Geo_SUMLEV         1319 non-null   int64  \n",
      " 6   Geo_GEOCOMP        1319 non-null   int64  \n",
      " 7   Geo_FILEID         1319 non-null   object \n",
      " 8   Geo_LOGRECNO       1319 non-null   int64  \n",
      " 9   Geo_US             0 non-null      float64\n",
      " 10  Geo_REGION         0 non-null      float64\n",
      " 11  Geo_DIVISION       0 non-null      float64\n",
      " 12  Geo_STATECE        0 non-null      float64\n",
      " 13  Geo_STATE          1319 non-null   object \n",
      " 14  Geo_COUNTY         1319 non-null   object \n",
      " 15  Geo_COUSUB         0 non-null      float64\n",
      " 16  Geo_PLACE          0 non-null      float64\n",
      " 17  Geo_PLACESE        0 non-null      float64\n",
      " 18  Geo_TRACT          1319 non-null   int64  \n",
      " 19  Geo_BLKGRP         0 non-null      float64\n",
      " 20  Geo_CONCIT         0 non-null      float64\n",
      " 21  Geo_AIANHH         0 non-null      float64\n",
      " 22  Geo_AIANHHFP       0 non-null      float64\n",
      " 23  Geo_AIHHTLI        0 non-null      float64\n",
      " 24  Geo_AITSCE         0 non-null      float64\n",
      " 25  Geo_AITS           0 non-null      float64\n",
      " 26  Geo_ANRC           0 non-null      float64\n",
      " 27  Geo_CBSA           0 non-null      float64\n",
      " 28  Geo_CSA            0 non-null      float64\n",
      " 29  Geo_METDIV         0 non-null      float64\n",
      " 30  Geo_MACC           0 non-null      float64\n",
      " 31  Geo_MEMI           0 non-null      float64\n",
      " 32  Geo_NECTA          0 non-null      float64\n",
      " 33  Geo_CNECTA         0 non-null      float64\n",
      " 34  Geo_NECTADIV       0 non-null      float64\n",
      " 35  Geo_UA             0 non-null      float64\n",
      " 36  Geo_UACP           0 non-null      float64\n",
      " 37  Geo_CDCURR         0 non-null      float64\n",
      " 38  Geo_SLDU           0 non-null      float64\n",
      " 39  Geo_SLDL           0 non-null      float64\n",
      " 40  Geo_VTD            0 non-null      float64\n",
      " 41  Geo_ZCTA3          0 non-null      float64\n",
      " 42  Geo_ZCTA5          0 non-null      float64\n",
      " 43  Geo_SUBMCD         0 non-null      float64\n",
      " 44  Geo_SDELM          0 non-null      float64\n",
      " 45  Geo_SDSEC          0 non-null      float64\n",
      " 46  Geo_SDUNI          0 non-null      float64\n",
      " 47  Geo_UR             0 non-null      float64\n",
      " 48  Geo_PCI            0 non-null      float64\n",
      " 49  Geo_TAZ            0 non-null      float64\n",
      " 50  Geo_UGA            0 non-null      float64\n",
      " 51  Geo_BTTR           0 non-null      float64\n",
      " 52  Geo_BTBG           0 non-null      float64\n",
      " 53  Geo_PUMA5          0 non-null      float64\n",
      " 54  Geo_PUMA1          0 non-null      float64\n",
      " 55  SE_A03001_001      1319 non-null   int64  \n",
      " 56  SE_A03001_002      1319 non-null   int64  \n",
      " 57  SE_A03001_003      1319 non-null   int64  \n",
      " 58  SE_A03001_004      1319 non-null   int64  \n",
      " 59  SE_A03001_005      1319 non-null   int64  \n",
      " 60  SE_A03001_006      1319 non-null   int64  \n",
      " 61  SE_A03001_007      1319 non-null   int64  \n",
      " 62  SE_A03001_008      1319 non-null   int64  \n",
      " 63  PCT_SE_A03001_002  1315 non-null   float64\n",
      " 64  PCT_SE_A03001_003  1315 non-null   float64\n",
      " 65  PCT_SE_A03001_004  1315 non-null   float64\n",
      " 66  PCT_SE_A03001_005  1315 non-null   float64\n",
      " 67  PCT_SE_A03001_006  1315 non-null   float64\n",
      " 68  PCT_SE_A03001_007  1315 non-null   float64\n",
      " 69  PCT_SE_A03001_008  1315 non-null   float64\n",
      "dtypes: float64(50), int64(12), object(8)\n",
      "memory usage: 721.5+ KB\n",
      "None\n",
      "<class 'pandas.core.frame.DataFrame'>\n",
      "RangeIndex: 2346 entries, 0 to 2345\n",
      "Data columns (total 70 columns):\n",
      " #   Column             Non-Null Count  Dtype  \n",
      "---  ------             --------------  -----  \n",
      " 0   Geo_FIPS           2346 non-null   object \n",
      " 1   Geo_GEOID          2346 non-null   object \n",
      " 2   Geo_NAME           2346 non-null   object \n",
      " 3   Geo_QName          2346 non-null   object \n",
      " 4   Geo_STUSAB         2346 non-null   object \n",
      " 5   Geo_SUMLEV         2346 non-null   int64  \n",
      " 6   Geo_GEOCOMP        2346 non-null   int64  \n",
      " 7   Geo_FILEID         2346 non-null   object \n",
      " 8   Geo_LOGRECNO       2346 non-null   int64  \n",
      " 9   Geo_US             0 non-null      float64\n",
      " 10  Geo_REGION         0 non-null      float64\n",
      " 11  Geo_DIVISION       0 non-null      float64\n",
      " 12  Geo_STATECE        0 non-null      float64\n",
      " 13  Geo_STATE          2346 non-null   object \n",
      " 14  Geo_COUNTY         2346 non-null   object \n",
      " 15  Geo_COUSUB         0 non-null      float64\n",
      " 16  Geo_PLACE          0 non-null      float64\n",
      " 17  Geo_PLACESE        0 non-null      float64\n",
      " 18  Geo_TRACT          2346 non-null   int64  \n",
      " 19  Geo_BLKGRP         0 non-null      float64\n",
      " 20  Geo_CONCIT         0 non-null      float64\n",
      " 21  Geo_AIANHH         0 non-null      float64\n",
      " 22  Geo_AIANHHFP       0 non-null      float64\n",
      " 23  Geo_AIHHTLI        0 non-null      float64\n",
      " 24  Geo_AITSCE         0 non-null      float64\n",
      " 25  Geo_AITS           0 non-null      float64\n",
      " 26  Geo_ANRC           0 non-null      float64\n",
      " 27  Geo_CBSA           0 non-null      float64\n",
      " 28  Geo_CSA            0 non-null      float64\n",
      " 29  Geo_METDIV         0 non-null      float64\n",
      " 30  Geo_MACC           0 non-null      float64\n",
      " 31  Geo_MEMI           0 non-null      float64\n",
      " 32  Geo_NECTA          0 non-null      float64\n",
      " 33  Geo_CNECTA         0 non-null      float64\n",
      " 34  Geo_NECTADIV       0 non-null      float64\n",
      " 35  Geo_UA             0 non-null      float64\n",
      " 36  Geo_UACP           0 non-null      float64\n",
      " 37  Geo_CDCURR         0 non-null      float64\n",
      " 38  Geo_SLDU           0 non-null      float64\n",
      " 39  Geo_SLDL           0 non-null      float64\n",
      " 40  Geo_VTD            0 non-null      float64\n",
      " 41  Geo_ZCTA3          0 non-null      float64\n",
      " 42  Geo_ZCTA5          0 non-null      float64\n",
      " 43  Geo_SUBMCD         0 non-null      float64\n",
      " 44  Geo_SDELM          0 non-null      float64\n",
      " 45  Geo_SDSEC          0 non-null      float64\n",
      " 46  Geo_SDUNI          0 non-null      float64\n",
      " 47  Geo_UR             0 non-null      float64\n",
      " 48  Geo_PCI            0 non-null      float64\n",
      " 49  Geo_TAZ            0 non-null      float64\n",
      " 50  Geo_UGA            0 non-null      float64\n",
      " 51  Geo_BTTR           0 non-null      float64\n",
      " 52  Geo_BTBG           0 non-null      float64\n",
      " 53  Geo_PUMA5          0 non-null      float64\n",
      " 54  Geo_PUMA1          0 non-null      float64\n",
      " 55  SE_A03001_001      2346 non-null   int64  \n",
      " 56  SE_A03001_002      2346 non-null   int64  \n",
      " 57  SE_A03001_003      2346 non-null   int64  \n",
      " 58  SE_A03001_004      2346 non-null   int64  \n",
      " 59  SE_A03001_005      2346 non-null   int64  \n",
      " 60  SE_A03001_006      2346 non-null   int64  \n",
      " 61  SE_A03001_007      2346 non-null   int64  \n",
      " 62  SE_A03001_008      2346 non-null   int64  \n",
      " 63  PCT_SE_A03001_002  2327 non-null   float64\n",
      " 64  PCT_SE_A03001_003  2327 non-null   float64\n",
      " 65  PCT_SE_A03001_004  2327 non-null   float64\n",
      " 66  PCT_SE_A03001_005  2327 non-null   float64\n",
      " 67  PCT_SE_A03001_006  2327 non-null   float64\n",
      " 68  PCT_SE_A03001_007  2327 non-null   float64\n",
      " 69  PCT_SE_A03001_008  2327 non-null   float64\n",
      "dtypes: float64(50), int64(12), object(8)\n",
      "memory usage: 1.3+ MB\n",
      "None\n"
     ]
    },
    {
     "name": "stderr",
     "output_type": "stream",
     "text": [
      "<ipython-input-178-9ccd5a7b06ff>:1: FutureWarning: null_counts is deprecated. Use show_counts instead\n",
      "  print(df_NY.info(verbose=True, null_counts=True))\n",
      "<ipython-input-178-9ccd5a7b06ff>:2: FutureWarning: null_counts is deprecated. Use show_counts instead\n",
      "  print(df_CH.info(verbose=True, null_counts=True))\n",
      "<ipython-input-178-9ccd5a7b06ff>:3: FutureWarning: null_counts is deprecated. Use show_counts instead\n",
      "  print(df_LA.info(verbose=True, null_counts=True))\n"
     ]
    }
   ],
   "source": [
    "print(df_NY.info(verbose=True, null_counts=True))\n",
    "print(df_CH.info(verbose=True, null_counts=True))\n",
    "print(df_LA.info(verbose=True, null_counts=True))"
   ]
  },
  {
   "cell_type": "markdown",
   "metadata": {},
   "source": [
    "Now we drop all the null columns and compare with the results in last cell."
   ]
  },
  {
   "cell_type": "code",
   "execution_count": 179,
   "metadata": {},
   "outputs": [
    {
     "name": "stdout",
     "output_type": "stream",
     "text": [
      "<class 'pandas.core.frame.DataFrame'>\n",
      "RangeIndex: 288 entries, 0 to 287\n",
      "Data columns (total 27 columns):\n",
      " #   Column             Non-Null Count  Dtype  \n",
      "---  ------             --------------  -----  \n",
      " 0   Geo_FIPS           288 non-null    object \n",
      " 1   Geo_GEOID          288 non-null    object \n",
      " 2   Geo_NAME           288 non-null    object \n",
      " 3   Geo_QName          288 non-null    object \n",
      " 4   Geo_STUSAB         288 non-null    object \n",
      " 5   Geo_SUMLEV         288 non-null    int64  \n",
      " 6   Geo_GEOCOMP        288 non-null    int64  \n",
      " 7   Geo_FILEID         288 non-null    object \n",
      " 8   Geo_LOGRECNO       288 non-null    int64  \n",
      " 9   Geo_STATE          288 non-null    object \n",
      " 10  Geo_COUNTY         288 non-null    object \n",
      " 11  Geo_TRACT          288 non-null    int64  \n",
      " 12  SE_A03001_001      288 non-null    int64  \n",
      " 13  SE_A03001_002      288 non-null    int64  \n",
      " 14  SE_A03001_003      288 non-null    int64  \n",
      " 15  SE_A03001_004      288 non-null    int64  \n",
      " 16  SE_A03001_005      288 non-null    int64  \n",
      " 17  SE_A03001_006      288 non-null    int64  \n",
      " 18  SE_A03001_007      288 non-null    int64  \n",
      " 19  SE_A03001_008      288 non-null    int64  \n",
      " 20  PCT_SE_A03001_002  283 non-null    float64\n",
      " 21  PCT_SE_A03001_003  283 non-null    float64\n",
      " 22  PCT_SE_A03001_004  283 non-null    float64\n",
      " 23  PCT_SE_A03001_005  283 non-null    float64\n",
      " 24  PCT_SE_A03001_006  283 non-null    float64\n",
      " 25  PCT_SE_A03001_007  283 non-null    float64\n",
      " 26  PCT_SE_A03001_008  283 non-null    float64\n",
      "dtypes: float64(7), int64(12), object(8)\n",
      "memory usage: 60.9+ KB\n",
      "None\n",
      "<class 'pandas.core.frame.DataFrame'>\n",
      "RangeIndex: 1319 entries, 0 to 1318\n",
      "Data columns (total 27 columns):\n",
      " #   Column             Non-Null Count  Dtype  \n",
      "---  ------             --------------  -----  \n",
      " 0   Geo_FIPS           1319 non-null   object \n",
      " 1   Geo_GEOID          1319 non-null   object \n",
      " 2   Geo_NAME           1319 non-null   object \n",
      " 3   Geo_QName          1319 non-null   object \n",
      " 4   Geo_STUSAB         1319 non-null   object \n",
      " 5   Geo_SUMLEV         1319 non-null   int64  \n",
      " 6   Geo_GEOCOMP        1319 non-null   int64  \n",
      " 7   Geo_FILEID         1319 non-null   object \n",
      " 8   Geo_LOGRECNO       1319 non-null   int64  \n",
      " 9   Geo_STATE          1319 non-null   object \n",
      " 10  Geo_COUNTY         1319 non-null   object \n",
      " 11  Geo_TRACT          1319 non-null   int64  \n",
      " 12  SE_A03001_001      1319 non-null   int64  \n",
      " 13  SE_A03001_002      1319 non-null   int64  \n",
      " 14  SE_A03001_003      1319 non-null   int64  \n",
      " 15  SE_A03001_004      1319 non-null   int64  \n",
      " 16  SE_A03001_005      1319 non-null   int64  \n",
      " 17  SE_A03001_006      1319 non-null   int64  \n",
      " 18  SE_A03001_007      1319 non-null   int64  \n",
      " 19  SE_A03001_008      1319 non-null   int64  \n",
      " 20  PCT_SE_A03001_002  1315 non-null   float64\n",
      " 21  PCT_SE_A03001_003  1315 non-null   float64\n",
      " 22  PCT_SE_A03001_004  1315 non-null   float64\n",
      " 23  PCT_SE_A03001_005  1315 non-null   float64\n",
      " 24  PCT_SE_A03001_006  1315 non-null   float64\n",
      " 25  PCT_SE_A03001_007  1315 non-null   float64\n",
      " 26  PCT_SE_A03001_008  1315 non-null   float64\n",
      "dtypes: float64(7), int64(12), object(8)\n",
      "memory usage: 278.4+ KB\n",
      "None\n",
      "<class 'pandas.core.frame.DataFrame'>\n",
      "RangeIndex: 2346 entries, 0 to 2345\n",
      "Data columns (total 27 columns):\n",
      " #   Column             Non-Null Count  Dtype  \n",
      "---  ------             --------------  -----  \n",
      " 0   Geo_FIPS           2346 non-null   object \n",
      " 1   Geo_GEOID          2346 non-null   object \n",
      " 2   Geo_NAME           2346 non-null   object \n",
      " 3   Geo_QName          2346 non-null   object \n",
      " 4   Geo_STUSAB         2346 non-null   object \n",
      " 5   Geo_SUMLEV         2346 non-null   int64  \n",
      " 6   Geo_GEOCOMP        2346 non-null   int64  \n",
      " 7   Geo_FILEID         2346 non-null   object \n",
      " 8   Geo_LOGRECNO       2346 non-null   int64  \n",
      " 9   Geo_STATE          2346 non-null   object \n",
      " 10  Geo_COUNTY         2346 non-null   object \n",
      " 11  Geo_TRACT          2346 non-null   int64  \n",
      " 12  SE_A03001_001      2346 non-null   int64  \n",
      " 13  SE_A03001_002      2346 non-null   int64  \n",
      " 14  SE_A03001_003      2346 non-null   int64  \n",
      " 15  SE_A03001_004      2346 non-null   int64  \n",
      " 16  SE_A03001_005      2346 non-null   int64  \n",
      " 17  SE_A03001_006      2346 non-null   int64  \n",
      " 18  SE_A03001_007      2346 non-null   int64  \n",
      " 19  SE_A03001_008      2346 non-null   int64  \n",
      " 20  PCT_SE_A03001_002  2327 non-null   float64\n",
      " 21  PCT_SE_A03001_003  2327 non-null   float64\n",
      " 22  PCT_SE_A03001_004  2327 non-null   float64\n",
      " 23  PCT_SE_A03001_005  2327 non-null   float64\n",
      " 24  PCT_SE_A03001_006  2327 non-null   float64\n",
      " 25  PCT_SE_A03001_007  2327 non-null   float64\n",
      " 26  PCT_SE_A03001_008  2327 non-null   float64\n",
      "dtypes: float64(7), int64(12), object(8)\n",
      "memory usage: 495.0+ KB\n",
      "None\n"
     ]
    },
    {
     "name": "stderr",
     "output_type": "stream",
     "text": [
      "<ipython-input-179-75ece186acd8>:4: FutureWarning: null_counts is deprecated. Use show_counts instead\n",
      "  print(df_NY.info(verbose=True, null_counts=True))\n",
      "<ipython-input-179-75ece186acd8>:5: FutureWarning: null_counts is deprecated. Use show_counts instead\n",
      "  print(df_CH.info(verbose=True, null_counts=True))\n",
      "<ipython-input-179-75ece186acd8>:6: FutureWarning: null_counts is deprecated. Use show_counts instead\n",
      "  print(df_LA.info(verbose=True, null_counts=True))\n"
     ]
    }
   ],
   "source": [
    "df_NY = df_NY.dropna(axis=1,how=\"all\")\n",
    "df_CH = df_CH.dropna(axis=1,how=\"all\")\n",
    "df_LA = df_LA.dropna(axis=1,how=\"all\")\n",
    "print(df_NY.info(verbose=True, null_counts=True))\n",
    "print(df_CH.info(verbose=True, null_counts=True))\n",
    "print(df_LA.info(verbose=True, null_counts=True))"
   ]
  },
  {
   "cell_type": "markdown",
   "metadata": {},
   "source": [
    "We used to have to 70 columns but now we reduced it to 27 columns.\n",
    "<br />  The next step is to drop columns we will not use."
   ]
  },
  {
   "cell_type": "code",
   "execution_count": 180,
   "metadata": {},
   "outputs": [],
   "source": [
    "columns_to_drop = ['Geo_GEOID','Geo_STUSAB','Geo_SUMLEV','Geo_GEOCOMP','Geo_FILEID','Geo_LOGRECNO']\n",
    "df_NY = df_NY.drop(columns_to_drop,axis=1)\n",
    "df_CH = df_CH.drop(columns_to_drop,axis=1)\n",
    "df_LA = df_LA.drop(columns_to_drop,axis=1)"
   ]
  },
  {
   "cell_type": "markdown",
   "metadata": {},
   "source": [
    "We want to check the column names and make sure they are easy to use."
   ]
  },
  {
   "cell_type": "code",
   "execution_count": 181,
   "metadata": {},
   "outputs": [
    {
     "name": "stdout",
     "output_type": "stream",
     "text": [
      "['Geo_FIPS', 'Geo_NAME', 'Geo_QName', 'Geo_STATE', 'Geo_COUNTY', 'Geo_TRACT', 'SE_A03001_001', 'SE_A03001_002', 'SE_A03001_003', 'SE_A03001_004', 'SE_A03001_005', 'SE_A03001_006', 'SE_A03001_007', 'SE_A03001_008', 'PCT_SE_A03001_002', 'PCT_SE_A03001_003', 'PCT_SE_A03001_004', 'PCT_SE_A03001_005', 'PCT_SE_A03001_006', 'PCT_SE_A03001_007', 'PCT_SE_A03001_008']\n"
     ]
    }
   ],
   "source": [
    "# only print once since they are subset of the same dataset\n",
    "print(df_NY.columns.to_list())"
   ]
  },
  {
   "cell_type": "markdown",
   "metadata": {},
   "source": [
    "Obviously the variable names are not easy to use, we will change them."
   ]
  },
  {
   "cell_type": "code",
   "execution_count": 182,
   "metadata": {},
   "outputs": [],
   "source": [
    "names = ['FIPS',\n",
    " 'Geo_NAME',\n",
    " 'Geo_QName',\n",
    " 'Geo_STATE',\n",
    " 'Geo_COUNTY',\n",
    " 'Geo_TRACT',\n",
    " 'TotalPop',\n",
    " 'White',\n",
    " 'Black',\n",
    " 'AmIndian_AlaskaNative',\n",
    " 'Asian',\n",
    " 'Haw_PI',\n",
    " 'Other',\n",
    " 'Two_or_more',\n",
    " 'PCT_White',\n",
    " 'PCT_Black',\n",
    " 'PCT_AmIndian_AlaskaNative',\n",
    " 'PCT_Asian',\n",
    " 'PCT_Haw_PI',\n",
    " 'PCT_Other',\n",
    " 'PCT_Two_or_more']\n",
    "df_NY.columns = names\n",
    "df_CH.columns = names\n",
    "df_LA.columns = names"
   ]
  },
  {
   "cell_type": "markdown",
   "metadata": {},
   "source": [
    "Now we drop the tracks that population equals to zero."
   ]
  },
  {
   "cell_type": "code",
   "execution_count": 183,
   "metadata": {},
   "outputs": [],
   "source": [
    "df_NY = df_NY.query(\"TotalPop > 0\")\n",
    "df_CH = df_CH.query(\"TotalPop > 0\")\n",
    "df_LA = df_LA.query(\"TotalPop > 0\")"
   ]
  },
  {
   "cell_type": "code",
   "execution_count": 184,
   "metadata": {},
   "outputs": [
    {
     "name": "stdout",
     "output_type": "stream",
     "text": [
      "Asian: 14.60011645845862 %\n",
      "White: 67.70399872527186 %\n",
      "Black: 17.695884816269526 %\n"
     ]
    },
    {
     "data": {
      "text/plain": [
       "<AxesSubplot:ylabel='Frequency'>"
      ]
     },
     "execution_count": 184,
     "metadata": {},
     "output_type": "execute_result"
    },
    {
     "data": {
      "image/png": "[encoded data removed]",
      "text/plain": [
       "<Figure size 432x288 with 1 Axes>"
      ]
     },
     "metadata": {
      "needs_background": "light"
     },
     "output_type": "display_data"
    }
   ],
   "source": [
    "summ = df_NY['Asian'].mean() + df_NY['White'].mean() + df_NY['Black'].mean()\n",
    "print('Asian:',df_NY['Asian'].mean()/summ*100,'%')\n",
    "print('White:',df_NY['White'].mean()/summ*100,'%')\n",
    "print('Black:',df_NY['Black'].mean()/summ*100,'%')\n",
    "df_NY[['Asian','White','Black']].plot.hist(stacked=True,bins=15)"
   ]
  },
  {
   "cell_type": "code",
   "execution_count": 185,
   "metadata": {},
   "outputs": [
    {
     "name": "stdout",
     "output_type": "stream",
     "text": [
      "Asian: 8.351958344540622 %\n",
      "White: 64.85144526711942 %\n",
      "Black: 26.796596388339957 %\n"
     ]
    },
    {
     "data": {
      "text/plain": [
       "<AxesSubplot:ylabel='Frequency'>"
      ]
     },
     "execution_count": 185,
     "metadata": {},
     "output_type": "execute_result"
    },
    {
     "data": {
      "image/png": "[encoded data removed]",
      "text/plain": [
       "<Figure size 432x288 with 1 Axes>"
      ]
     },
     "metadata": {
      "needs_background": "light"
     },
     "output_type": "display_data"
    }
   ],
   "source": [
    "summ = df_CH['Asian'].mean() + df_CH['White'].mean() + df_CH['Black'].mean()\n",
    "print('Asian:',df_CH['Asian'].mean()/summ*100,'%')\n",
    "print('White:',df_CH['White'].mean()/summ*100,'%')\n",
    "print('Black:',df_CH['Black'].mean()/summ*100,'%')\n",
    "df_CH[['Asian','White','Black']].plot.hist(stacked=True,bins=15)"
   ]
  },
  {
   "cell_type": "code",
   "execution_count": 186,
   "metadata": {},
   "outputs": [
    {
     "name": "stdout",
     "output_type": "stream",
     "text": [
      "Asian: 19.742602057157317 %\n",
      "White: 69.26219040055791 %\n",
      "Black: 10.995207542284776 %\n"
     ]
    },
    {
     "data": {
      "text/plain": [
       "<AxesSubplot:ylabel='Frequency'>"
      ]
     },
     "execution_count": 186,
     "metadata": {},
     "output_type": "execute_result"
    },
    {
     "data": {
      "image/png": "[encoded data removed]",
      "text/plain": [
       "<Figure size 432x288 with 1 Axes>"
      ]
     },
     "metadata": {
      "needs_background": "light"
     },
     "output_type": "display_data"
    }
   ],
   "source": [
    "summ = df_LA['Asian'].mean() + df_LA['White'].mean() + df_LA['Black'].mean()\n",
    "print('Asian:',df_LA['Asian'].mean()/summ*100,'%')\n",
    "print('White:',df_LA['White'].mean()/summ*100,'%')\n",
    "print('Black:',df_LA['Black'].mean()/summ*100,'%')\n",
    "df_LA[['Asian','White','Black']].plot.hist(stacked=True,bins=15)"
   ]
  },
  {
   "cell_type": "markdown",
   "metadata": {},
   "source": [
    "Comparing the statistics and figures we created above, we can see that three different counties have very differnt Asian/Afican American ratio. The ratio of white men are around 67% for three regions. However, the LA county has significantly more Asians where as Chicago has more African Americans.In future studies, we will do a sentiment analysis to see if they have different conserns and worries. "
   ]
  }
 ],
 "metadata": {
  "kernelspec": {
   "display_name": "Python 3",
   "language": "python",
   "name": "python3"
  },
  "language_info": {
   "codemirror_mode": {
    "name": "ipython",
    "version": 3
   },
   "file_extension": ".py",
   "mimetype": "text/x-python",
   "name": "python",
   "nbconvert_exporter": "python",
   "pygments_lexer": "ipython3",
   "version": "3.8.5"
  }
 },
 "nbformat": 4,
 "nbformat_minor": 4
}
