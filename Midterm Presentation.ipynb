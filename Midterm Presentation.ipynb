{
 "cells": [
  {
   "cell_type": "markdown",
   "metadata": {},
   "source": [
    "# What are people tlaking about when they talk about the COVID-19 vaccine?"
   ]
  },
  {
   "cell_type": "markdown",
   "metadata": {},
   "source": [
    "## Research Question\n",
    "* What are the public's approval of the COVID-19 vaccine?\n",
    "    * How do can we measure it?\n",
    "    * Does it varies with respect to space?\n",
    "* What roles does social media (Twitter) play in...?\n",
    "* What are the publics' consern about the vaccine?\n",
    "    * Does these conserns varies in terms of location?"
   ]
  },
  {
   "cell_type": "markdown",
   "metadata": {},
   "source": [
    "## Data Sources & Description\n",
    "As of now, the datasets we will be using is the Pfizer and BioNTech Vaccine Tweets Dataset. The Pfizer and BioNTech Vaccine Tweets Dataset is posted on Kaggle and created by Gabriel Preda, who is a data scientist in Romania. The dataset includes variables such as users’ names, locations, and their original tweets about the vaccines. The link to the datasets is:\n",
    "  * https://www.kaggle.com/gpreda/pfizer-vaccine-tweets"
   ]
  },
  {
   "cell_type": "markdown",
   "metadata": {},
   "source": [
    "### Importing Data\n",
    "Since the Tweets Dataset we will be using is updated daily, besides saving a copy of the older version, we also want to import the most up to date data directly from Kaggle using the provided API. Here are the steps:\n",
    "* Go to your account, Scroll to API section and Click Expire API Token to remove previous tokens.\n",
    "* Click on Create New API Token - It will download kaggle.json file on your machine.\n",
    "* now just put it in the location C:\\Users\\(your user name)\\.kaggle."
   ]
  },
  {
   "cell_type": "code",
   "execution_count": 203,
   "metadata": {},
   "outputs": [],
   "source": [
    "# uncomment next line if Kaggle library is not installed on your computer\n",
    "#!pip install kaggle\n",
    "from kaggle.api.kaggle_api_extended import KaggleApi\n",
    "from zipfile import ZipFile\n",
    "api = KaggleApi()\n",
    "api.authenticate()\n",
    "# download a copy of the most up to date data to your computer\n",
    "api.dataset_download_files('gpreda/pfizer-vaccine-tweets')\n",
    "# unzip the download file\n",
    "zf = ZipFile('pfizer-vaccine-tweets.zip')\n",
    "#extracted data is saved in the same directory as notebook\n",
    "zf.extractall() \n",
    "zf.close()"
   ]
  },
  {
   "cell_type": "markdown",
   "metadata": {},
   "source": [
    "### Access the data we just downloaded"
   ]
  },
  {
   "cell_type": "code",
   "execution_count": 204,
   "metadata": {},
   "outputs": [],
   "source": [
    "import pandas as pd\n",
    "df_tweets=pd.read_csv('vaccination_tweets.csv')"
   ]
  },
  {
   "cell_type": "markdown",
   "metadata": {},
   "source": [
    "### Some Basic Checkings\n",
    "* Number of rows and column variables.\n",
    "* The name of the column variabes.\n",
    "* A quick glance of the actual data using the head method."
   ]
  },
  {
   "cell_type": "code",
   "execution_count": 205,
   "metadata": {},
   "outputs": [
    {
     "name": "stdout",
     "output_type": "stream",
     "text": [
      "(5376, 16)\n",
      "Index(['id', 'user_name', 'user_location', 'user_description', 'user_created',\n",
      "       'user_followers', 'user_friends', 'user_favourites', 'user_verified',\n",
      "       'date', 'text', 'hashtags', 'source', 'retweets', 'favorites',\n",
      "       'is_retweet'],\n",
      "      dtype='object')\n"
     ]
    }
   ],
   "source": [
    "print(df_tweets.shape)\n",
    "print(df_tweets.columns)"
   ]
  },
  {
   "cell_type": "code",
   "execution_count": 206,
   "metadata": {
    "scrolled": true
   },
   "outputs": [
    {
     "data": {
      "text/html": [
       "<div>\n",
       "<style scoped>\n",
       "    .dataframe tbody tr th:only-of-type {\n",
       "        vertical-align: middle;\n",
       "    }\n",
       "\n",
       "    .dataframe tbody tr th {\n",
       "        vertical-align: top;\n",
       "    }\n",
       "\n",
       "    .dataframe thead th {\n",
       "        text-align: right;\n",
       "    }\n",
       "</style>\n",
       "<table border=\"1\" class=\"dataframe\">\n",
       "  <thead>\n",
       "    <tr style=\"text-align: right;\">\n",
       "      <th></th>\n",
       "      <th>id</th>\n",
       "      <th>user_name</th>\n",
       "      <th>user_location</th>\n",
       "      <th>user_description</th>\n",
       "      <th>user_created</th>\n",
       "      <th>user_followers</th>\n",
       "      <th>user_friends</th>\n",
       "      <th>user_favourites</th>\n",
       "      <th>user_verified</th>\n",
       "      <th>date</th>\n",
       "      <th>text</th>\n",
       "      <th>hashtags</th>\n",
       "      <th>source</th>\n",
       "      <th>retweets</th>\n",
       "      <th>favorites</th>\n",
       "      <th>is_retweet</th>\n",
       "    </tr>\n",
       "  </thead>\n",
       "  <tbody>\n",
       "    <tr>\n",
       "      <th>0</th>\n",
       "      <td>1340539111971516416</td>\n",
       "      <td>Rachel Roh</td>\n",
       "      <td>La Crescenta-Montrose, CA</td>\n",
       "      <td>Aggregator of Asian American news; scanning di...</td>\n",
       "      <td>2009-04-08 17:52:46</td>\n",
       "      <td>405</td>\n",
       "      <td>1692</td>\n",
       "      <td>3247</td>\n",
       "      <td>False</td>\n",
       "      <td>2020-12-20 06:06:44</td>\n",
       "      <td>Same folks said daikon paste could treat a cyt...</td>\n",
       "      <td>['PfizerBioNTech']</td>\n",
       "      <td>Twitter for Android</td>\n",
       "      <td>0</td>\n",
       "      <td>0</td>\n",
       "      <td>False</td>\n",
       "    </tr>\n",
       "    <tr>\n",
       "      <th>1</th>\n",
       "      <td>1338158543359250433</td>\n",
       "      <td>Albert Fong</td>\n",
       "      <td>San Francisco, CA</td>\n",
       "      <td>Marketing dude, tech geek, heavy metal &amp; '80s ...</td>\n",
       "      <td>2009-09-21 15:27:30</td>\n",
       "      <td>834</td>\n",
       "      <td>666</td>\n",
       "      <td>178</td>\n",
       "      <td>False</td>\n",
       "      <td>2020-12-13 16:27:13</td>\n",
       "      <td>While the world has been on the wrong side of ...</td>\n",
       "      <td>NaN</td>\n",
       "      <td>Twitter Web App</td>\n",
       "      <td>1</td>\n",
       "      <td>1</td>\n",
       "      <td>False</td>\n",
       "    </tr>\n",
       "    <tr>\n",
       "      <th>2</th>\n",
       "      <td>1337858199140118533</td>\n",
       "      <td>eli🇱🇹🇪🇺👌</td>\n",
       "      <td>Your Bed</td>\n",
       "      <td>heil, hydra 🖐☺</td>\n",
       "      <td>2020-06-25 23:30:28</td>\n",
       "      <td>10</td>\n",
       "      <td>88</td>\n",
       "      <td>155</td>\n",
       "      <td>False</td>\n",
       "      <td>2020-12-12 20:33:45</td>\n",
       "      <td>#coronavirus #SputnikV #AstraZeneca #PfizerBio...</td>\n",
       "      <td>['coronavirus', 'SputnikV', 'AstraZeneca', 'Pf...</td>\n",
       "      <td>Twitter for Android</td>\n",
       "      <td>0</td>\n",
       "      <td>0</td>\n",
       "      <td>False</td>\n",
       "    </tr>\n",
       "    <tr>\n",
       "      <th>3</th>\n",
       "      <td>1337855739918835717</td>\n",
       "      <td>Charles Adler</td>\n",
       "      <td>Vancouver, BC - Canada</td>\n",
       "      <td>Hosting \"CharlesAdlerTonight\" Global News Radi...</td>\n",
       "      <td>2008-09-10 11:28:53</td>\n",
       "      <td>49165</td>\n",
       "      <td>3933</td>\n",
       "      <td>21853</td>\n",
       "      <td>True</td>\n",
       "      <td>2020-12-12 20:23:59</td>\n",
       "      <td>Facts are immutable, Senator, even when you're...</td>\n",
       "      <td>NaN</td>\n",
       "      <td>Twitter Web App</td>\n",
       "      <td>446</td>\n",
       "      <td>2129</td>\n",
       "      <td>False</td>\n",
       "    </tr>\n",
       "    <tr>\n",
       "      <th>4</th>\n",
       "      <td>1337854064604966912</td>\n",
       "      <td>Citizen News Channel</td>\n",
       "      <td>NaN</td>\n",
       "      <td>Citizen News Channel bringing you an alternati...</td>\n",
       "      <td>2020-04-23 17:58:42</td>\n",
       "      <td>152</td>\n",
       "      <td>580</td>\n",
       "      <td>1473</td>\n",
       "      <td>False</td>\n",
       "      <td>2020-12-12 20:17:19</td>\n",
       "      <td>Explain to me again why we need a vaccine @Bor...</td>\n",
       "      <td>['whereareallthesickpeople', 'PfizerBioNTech']</td>\n",
       "      <td>Twitter for iPhone</td>\n",
       "      <td>0</td>\n",
       "      <td>0</td>\n",
       "      <td>False</td>\n",
       "    </tr>\n",
       "  </tbody>\n",
       "</table>\n",
       "</div>"
      ],
      "text/plain": [
       "                    id             user_name              user_location  \\\n",
       "0  1340539111971516416            Rachel Roh  La Crescenta-Montrose, CA   \n",
       "1  1338158543359250433           Albert Fong          San Francisco, CA   \n",
       "2  1337858199140118533              eli🇱🇹🇪🇺👌                   Your Bed   \n",
       "3  1337855739918835717         Charles Adler     Vancouver, BC - Canada   \n",
       "4  1337854064604966912  Citizen News Channel                        NaN   \n",
       "\n",
       "                                    user_description         user_created  \\\n",
       "0  Aggregator of Asian American news; scanning di...  2009-04-08 17:52:46   \n",
       "1  Marketing dude, tech geek, heavy metal & '80s ...  2009-09-21 15:27:30   \n",
       "2                                     heil, hydra 🖐☺  2020-06-25 23:30:28   \n",
       "3  Hosting \"CharlesAdlerTonight\" Global News Radi...  2008-09-10 11:28:53   \n",
       "4  Citizen News Channel bringing you an alternati...  2020-04-23 17:58:42   \n",
       "\n",
       "   user_followers  user_friends  user_favourites  user_verified  \\\n",
       "0             405          1692             3247          False   \n",
       "1             834           666              178          False   \n",
       "2              10            88              155          False   \n",
       "3           49165          3933            21853           True   \n",
       "4             152           580             1473          False   \n",
       "\n",
       "                  date                                               text  \\\n",
       "0  2020-12-20 06:06:44  Same folks said daikon paste could treat a cyt...   \n",
       "1  2020-12-13 16:27:13  While the world has been on the wrong side of ...   \n",
       "2  2020-12-12 20:33:45  #coronavirus #SputnikV #AstraZeneca #PfizerBio...   \n",
       "3  2020-12-12 20:23:59  Facts are immutable, Senator, even when you're...   \n",
       "4  2020-12-12 20:17:19  Explain to me again why we need a vaccine @Bor...   \n",
       "\n",
       "                                            hashtags               source  \\\n",
       "0                                 ['PfizerBioNTech']  Twitter for Android   \n",
       "1                                                NaN      Twitter Web App   \n",
       "2  ['coronavirus', 'SputnikV', 'AstraZeneca', 'Pf...  Twitter for Android   \n",
       "3                                                NaN      Twitter Web App   \n",
       "4     ['whereareallthesickpeople', 'PfizerBioNTech']   Twitter for iPhone   \n",
       "\n",
       "   retweets  favorites  is_retweet  \n",
       "0         0          0       False  \n",
       "1         1          1       False  \n",
       "2         0          0       False  \n",
       "3       446       2129       False  \n",
       "4         0          0       False  "
      ]
     },
     "execution_count": 206,
     "metadata": {},
     "output_type": "execute_result"
    }
   ],
   "source": [
    "df_tweets.head(5)"
   ]
  },
  {
   "cell_type": "markdown",
   "metadata": {},
   "source": [
    "Since we are interested in the geographical reaationship of the users and want to analyze the tweets' content, some cleaning and engineering needs to be done."
   ]
  },
  {
   "cell_type": "markdown",
   "metadata": {},
   "source": [
    "## Data Cleaning & Engineering"
   ]
  },
  {
   "cell_type": "markdown",
   "metadata": {},
   "source": [
    "### Data Cleaning\n",
    "We first remove the columns we will not use, such as user ID and user names."
   ]
  },
  {
   "cell_type": "code",
   "execution_count": 207,
   "metadata": {},
   "outputs": [
    {
     "name": "stdout",
     "output_type": "stream",
     "text": [
      "(5376, 13)\n"
     ]
    },
    {
     "data": {
      "text/html": [
       "<div>\n",
       "<style scoped>\n",
       "    .dataframe tbody tr th:only-of-type {\n",
       "        vertical-align: middle;\n",
       "    }\n",
       "\n",
       "    .dataframe tbody tr th {\n",
       "        vertical-align: top;\n",
       "    }\n",
       "\n",
       "    .dataframe thead th {\n",
       "        text-align: right;\n",
       "    }\n",
       "</style>\n",
       "<table border=\"1\" class=\"dataframe\">\n",
       "  <thead>\n",
       "    <tr style=\"text-align: right;\">\n",
       "      <th></th>\n",
       "      <th>user_name</th>\n",
       "      <th>user_location</th>\n",
       "      <th>user_created</th>\n",
       "      <th>user_followers</th>\n",
       "      <th>user_friends</th>\n",
       "      <th>user_favourites</th>\n",
       "      <th>user_verified</th>\n",
       "      <th>date</th>\n",
       "      <th>text</th>\n",
       "      <th>source</th>\n",
       "      <th>retweets</th>\n",
       "      <th>favorites</th>\n",
       "      <th>is_retweet</th>\n",
       "    </tr>\n",
       "  </thead>\n",
       "  <tbody>\n",
       "    <tr>\n",
       "      <th>0</th>\n",
       "      <td>Rachel Roh</td>\n",
       "      <td>La Crescenta-Montrose, CA</td>\n",
       "      <td>2009-04-08 17:52:46</td>\n",
       "      <td>405</td>\n",
       "      <td>1692</td>\n",
       "      <td>3247</td>\n",
       "      <td>False</td>\n",
       "      <td>2020-12-20 06:06:44</td>\n",
       "      <td>Same folks said daikon paste could treat a cyt...</td>\n",
       "      <td>Twitter for Android</td>\n",
       "      <td>0</td>\n",
       "      <td>0</td>\n",
       "      <td>False</td>\n",
       "    </tr>\n",
       "    <tr>\n",
       "      <th>1</th>\n",
       "      <td>Albert Fong</td>\n",
       "      <td>San Francisco, CA</td>\n",
       "      <td>2009-09-21 15:27:30</td>\n",
       "      <td>834</td>\n",
       "      <td>666</td>\n",
       "      <td>178</td>\n",
       "      <td>False</td>\n",
       "      <td>2020-12-13 16:27:13</td>\n",
       "      <td>While the world has been on the wrong side of ...</td>\n",
       "      <td>Twitter Web App</td>\n",
       "      <td>1</td>\n",
       "      <td>1</td>\n",
       "      <td>False</td>\n",
       "    </tr>\n",
       "    <tr>\n",
       "      <th>2</th>\n",
       "      <td>eli🇱🇹🇪🇺👌</td>\n",
       "      <td>Your Bed</td>\n",
       "      <td>2020-06-25 23:30:28</td>\n",
       "      <td>10</td>\n",
       "      <td>88</td>\n",
       "      <td>155</td>\n",
       "      <td>False</td>\n",
       "      <td>2020-12-12 20:33:45</td>\n",
       "      <td>#coronavirus #SputnikV #AstraZeneca #PfizerBio...</td>\n",
       "      <td>Twitter for Android</td>\n",
       "      <td>0</td>\n",
       "      <td>0</td>\n",
       "      <td>False</td>\n",
       "    </tr>\n",
       "    <tr>\n",
       "      <th>3</th>\n",
       "      <td>Charles Adler</td>\n",
       "      <td>Vancouver, BC - Canada</td>\n",
       "      <td>2008-09-10 11:28:53</td>\n",
       "      <td>49165</td>\n",
       "      <td>3933</td>\n",
       "      <td>21853</td>\n",
       "      <td>True</td>\n",
       "      <td>2020-12-12 20:23:59</td>\n",
       "      <td>Facts are immutable, Senator, even when you're...</td>\n",
       "      <td>Twitter Web App</td>\n",
       "      <td>446</td>\n",
       "      <td>2129</td>\n",
       "      <td>False</td>\n",
       "    </tr>\n",
       "    <tr>\n",
       "      <th>4</th>\n",
       "      <td>Citizen News Channel</td>\n",
       "      <td>NaN</td>\n",
       "      <td>2020-04-23 17:58:42</td>\n",
       "      <td>152</td>\n",
       "      <td>580</td>\n",
       "      <td>1473</td>\n",
       "      <td>False</td>\n",
       "      <td>2020-12-12 20:17:19</td>\n",
       "      <td>Explain to me again why we need a vaccine @Bor...</td>\n",
       "      <td>Twitter for iPhone</td>\n",
       "      <td>0</td>\n",
       "      <td>0</td>\n",
       "      <td>False</td>\n",
       "    </tr>\n",
       "  </tbody>\n",
       "</table>\n",
       "</div>"
      ],
      "text/plain": [
       "              user_name              user_location         user_created  \\\n",
       "0            Rachel Roh  La Crescenta-Montrose, CA  2009-04-08 17:52:46   \n",
       "1           Albert Fong          San Francisco, CA  2009-09-21 15:27:30   \n",
       "2              eli🇱🇹🇪🇺👌                   Your Bed  2020-06-25 23:30:28   \n",
       "3         Charles Adler     Vancouver, BC - Canada  2008-09-10 11:28:53   \n",
       "4  Citizen News Channel                        NaN  2020-04-23 17:58:42   \n",
       "\n",
       "   user_followers  user_friends  user_favourites  user_verified  \\\n",
       "0             405          1692             3247          False   \n",
       "1             834           666              178          False   \n",
       "2              10            88              155          False   \n",
       "3           49165          3933            21853           True   \n",
       "4             152           580             1473          False   \n",
       "\n",
       "                  date                                               text  \\\n",
       "0  2020-12-20 06:06:44  Same folks said daikon paste could treat a cyt...   \n",
       "1  2020-12-13 16:27:13  While the world has been on the wrong side of ...   \n",
       "2  2020-12-12 20:33:45  #coronavirus #SputnikV #AstraZeneca #PfizerBio...   \n",
       "3  2020-12-12 20:23:59  Facts are immutable, Senator, even when you're...   \n",
       "4  2020-12-12 20:17:19  Explain to me again why we need a vaccine @Bor...   \n",
       "\n",
       "                source  retweets  favorites  is_retweet  \n",
       "0  Twitter for Android         0          0       False  \n",
       "1      Twitter Web App         1          1       False  \n",
       "2  Twitter for Android         0          0       False  \n",
       "3      Twitter Web App       446       2129       False  \n",
       "4   Twitter for iPhone         0          0       False  "
      ]
     },
     "execution_count": 207,
     "metadata": {},
     "output_type": "execute_result"
    }
   ],
   "source": [
    "df_tweets.drop(columns=['id','user_description','hashtags'], inplace=True)\n",
    "print(df_tweets.shape)\n",
    "df_tweets.head(5)"
   ]
  },
  {
   "cell_type": "markdown",
   "metadata": {},
   "source": [
    "### Data Engineering - Users' Location\n",
    "User locations like 'Your Bed' and NaN clearly won't help with our geographical analysis.\n",
    "We want to at least extract the city and country from the location description/ 'user_locatiom' column. \n",
    "\n",
    "To accomplish this task, we will us a library called **Geotext**.This library allows us to extract **city name** and **country code** without going through the NLP hassle. The geological information will be used for the data exploration process and guide our direction of this research."
   ]
  },
  {
   "cell_type": "markdown",
   "metadata": {},
   "source": [
    "Import GeoText and the OrderedDict library, we will use the OrderedDict library to interact with the results returned from GeoText."
   ]
  },
  {
   "cell_type": "code",
   "execution_count": 208,
   "metadata": {},
   "outputs": [],
   "source": [
    "# uncomment next line to intall Geotext if you have not yet installed\n",
    "#!pip install geotext\n",
    "from geotext import GeoText\n",
    "# we will need the another tool to interact with Geotext\n",
    "from collections import OrderedDict "
   ]
  },
  {
   "cell_type": "markdown",
   "metadata": {},
   "source": [
    "How GeoText works?"
   ]
  },
  {
   "cell_type": "code",
   "execution_count": 209,
   "metadata": {},
   "outputs": [
    {
     "name": "stdout",
     "output_type": "stream",
     "text": [
      "[]\n",
      "['London']\n",
      "odict_keys(['GB'])\n",
      "GB\n"
     ]
    }
   ],
   "source": [
    "places1 = GeoText(\"my bed\")\n",
    "print(places1.cities)\n",
    "places2 = GeoText(\"London is a great city\")\n",
    "print(places2.cities)\n",
    "print(places2.country_mentions.keys())\n",
    "print(list(places2.country_mentions.keys())[0])"
   ]
  },
  {
   "cell_type": "markdown",
   "metadata": {},
   "source": [
    "Notice that not all users' location description are useable since GeoText can only read strings. Therefore we want to do some subsetting.\n",
    "\n",
    "It's okay to have empty string as location description, Geotext will figure it out."
   ]
  },
  {
   "cell_type": "code",
   "execution_count": 210,
   "metadata": {},
   "outputs": [],
   "source": [
    "df_tweets['user_location'] = df_tweets['user_location'].astype('string')"
   ]
  },
  {
   "cell_type": "markdown",
   "metadata": {},
   "source": [
    "Finally, extracting location data. \n",
    "\n",
    "Here we use a try block to skip cases with emojis and random characters."
   ]
  },
  {
   "cell_type": "code",
   "execution_count": 211,
   "metadata": {},
   "outputs": [],
   "source": [
    "user_city = []\n",
    "user_country = []\n",
    "for index, row in df_tweets.iterrows():\n",
    "    try:\n",
    "        if GeoText(row['user_location']).cities:\n",
    "            user_city.append(GeoText(row['user_location']).cities[0])\n",
    "            user_country.append(list(GeoText(row['user_location']).country_mentions.keys())[0])\n",
    "        else:\n",
    "            user_city.append('')\n",
    "            user_country.append('')\n",
    "    except:\n",
    "        user_city.append('')\n",
    "        user_country.append('')      \n",
    "# Assign it as new columns\n",
    "df_tweets['user_city'] = user_city\n",
    "df_tweets['user_country'] = user_country"
   ]
  },
  {
   "cell_type": "markdown",
   "metadata": {},
   "source": [
    "### Data Engineering - Geocoding Users' Location\n",
    "The city names and coutry code is usefull for statistical purposes.But they are not helpful interms of mapping. Therefore we need to geocode (get the longitude and latitude) the cities by their name. To do this, we will use the help of Geopy."
   ]
  },
  {
   "cell_type": "code",
   "execution_count": 212,
   "metadata": {},
   "outputs": [],
   "source": [
    "# uncomment next line to intall GeoPy if you have not yet do so\n",
    "#!pip install geopy\n",
    "import geopy\n",
    "from geopy.geocoders import Nominatim\n",
    "locator = Nominatim(user_agent=\"myGeocoder\")"
   ]
  },
  {
   "cell_type": "markdown",
   "metadata": {},
   "source": [
    "How it works:"
   ]
  },
  {
   "cell_type": "code",
   "execution_count": 213,
   "metadata": {},
   "outputs": [
    {
     "name": "stdout",
     "output_type": "stream",
     "text": [
      "Los Angeles, Los Angeles County, California, United States\n",
      "34.0536909\n",
      "-118.242766\n"
     ]
    }
   ],
   "source": [
    "print(locator.geocode(\"Los Angeles\"))\n",
    "print(locator.geocode(\"Los Angeles\").latitude)\n",
    "print(locator.geocode(\"Los Angeles\").longitude)"
   ]
  },
  {
   "cell_type": "markdown",
   "metadata": {},
   "source": [
    "Keep in mind that an IP address will have a limited amount of access to the server. Also, you can make one request per second. Make sure to skip the empty strings to save your resources and time."
   ]
  },
  {
   "cell_type": "code",
   "execution_count": 214,
   "metadata": {},
   "outputs": [
    {
     "name": "stdout",
     "output_type": "stream",
     "text": [
      "Wall time: 35min 5s\n"
     ]
    }
   ],
   "source": [
    "%%time\n",
    "lat = []\n",
    "lon = []\n",
    "for index, row in df_tweets.iterrows():\n",
    "    if row['user_city']:\n",
    "        lat.append(locator.geocode(row['user_city']).latitude)\n",
    "        lon.append(locator.geocode(row['user_city']).longitude)\n",
    "    else:\n",
    "        lat.append('')\n",
    "        lon.append('')\n",
    "df_tweets['city_latitude']=lat\n",
    "df_tweets['city_longitude']=lon"
   ]
  },
  {
   "cell_type": "code",
   "execution_count": 215,
   "metadata": {},
   "outputs": [
    {
     "data": {
      "text/html": [
       "<div>\n",
       "<style scoped>\n",
       "    .dataframe tbody tr th:only-of-type {\n",
       "        vertical-align: middle;\n",
       "    }\n",
       "\n",
       "    .dataframe tbody tr th {\n",
       "        vertical-align: top;\n",
       "    }\n",
       "\n",
       "    .dataframe thead th {\n",
       "        text-align: right;\n",
       "    }\n",
       "</style>\n",
       "<table border=\"1\" class=\"dataframe\">\n",
       "  <thead>\n",
       "    <tr style=\"text-align: right;\">\n",
       "      <th></th>\n",
       "      <th>user_name</th>\n",
       "      <th>user_location</th>\n",
       "      <th>user_created</th>\n",
       "      <th>user_followers</th>\n",
       "      <th>user_friends</th>\n",
       "      <th>user_favourites</th>\n",
       "      <th>user_verified</th>\n",
       "      <th>date</th>\n",
       "      <th>text</th>\n",
       "      <th>source</th>\n",
       "      <th>retweets</th>\n",
       "      <th>favorites</th>\n",
       "      <th>is_retweet</th>\n",
       "      <th>user_city</th>\n",
       "      <th>user_country</th>\n",
       "      <th>city_latitude</th>\n",
       "      <th>city_longitude</th>\n",
       "    </tr>\n",
       "  </thead>\n",
       "  <tbody>\n",
       "    <tr>\n",
       "      <th>0</th>\n",
       "      <td>Rachel Roh</td>\n",
       "      <td>La Crescenta-Montrose, CA</td>\n",
       "      <td>2009-04-08 17:52:46</td>\n",
       "      <td>405</td>\n",
       "      <td>1692</td>\n",
       "      <td>3247</td>\n",
       "      <td>False</td>\n",
       "      <td>2020-12-20 06:06:44</td>\n",
       "      <td>Same folks said daikon paste could treat a cyt...</td>\n",
       "      <td>Twitter for Android</td>\n",
       "      <td>0</td>\n",
       "      <td>0</td>\n",
       "      <td>False</td>\n",
       "      <td>Montrose</td>\n",
       "      <td>US</td>\n",
       "      <td>38.437539</td>\n",
       "      <td>-108.240386</td>\n",
       "    </tr>\n",
       "    <tr>\n",
       "      <th>1</th>\n",
       "      <td>Albert Fong</td>\n",
       "      <td>San Francisco, CA</td>\n",
       "      <td>2009-09-21 15:27:30</td>\n",
       "      <td>834</td>\n",
       "      <td>666</td>\n",
       "      <td>178</td>\n",
       "      <td>False</td>\n",
       "      <td>2020-12-13 16:27:13</td>\n",
       "      <td>While the world has been on the wrong side of ...</td>\n",
       "      <td>Twitter Web App</td>\n",
       "      <td>1</td>\n",
       "      <td>1</td>\n",
       "      <td>False</td>\n",
       "      <td>San Francisco</td>\n",
       "      <td>US</td>\n",
       "      <td>37.779026</td>\n",
       "      <td>-122.419906</td>\n",
       "    </tr>\n",
       "    <tr>\n",
       "      <th>2</th>\n",
       "      <td>eli🇱🇹🇪🇺👌</td>\n",
       "      <td>Your Bed</td>\n",
       "      <td>2020-06-25 23:30:28</td>\n",
       "      <td>10</td>\n",
       "      <td>88</td>\n",
       "      <td>155</td>\n",
       "      <td>False</td>\n",
       "      <td>2020-12-12 20:33:45</td>\n",
       "      <td>#coronavirus #SputnikV #AstraZeneca #PfizerBio...</td>\n",
       "      <td>Twitter for Android</td>\n",
       "      <td>0</td>\n",
       "      <td>0</td>\n",
       "      <td>False</td>\n",
       "      <td></td>\n",
       "      <td></td>\n",
       "      <td></td>\n",
       "      <td></td>\n",
       "    </tr>\n",
       "    <tr>\n",
       "      <th>3</th>\n",
       "      <td>Charles Adler</td>\n",
       "      <td>Vancouver, BC - Canada</td>\n",
       "      <td>2008-09-10 11:28:53</td>\n",
       "      <td>49165</td>\n",
       "      <td>3933</td>\n",
       "      <td>21853</td>\n",
       "      <td>True</td>\n",
       "      <td>2020-12-12 20:23:59</td>\n",
       "      <td>Facts are immutable, Senator, even when you're...</td>\n",
       "      <td>Twitter Web App</td>\n",
       "      <td>446</td>\n",
       "      <td>2129</td>\n",
       "      <td>False</td>\n",
       "      <td>Vancouver</td>\n",
       "      <td>CA</td>\n",
       "      <td>49.260872</td>\n",
       "      <td>-123.113953</td>\n",
       "    </tr>\n",
       "    <tr>\n",
       "      <th>4</th>\n",
       "      <td>Citizen News Channel</td>\n",
       "      <td>&lt;NA&gt;</td>\n",
       "      <td>2020-04-23 17:58:42</td>\n",
       "      <td>152</td>\n",
       "      <td>580</td>\n",
       "      <td>1473</td>\n",
       "      <td>False</td>\n",
       "      <td>2020-12-12 20:17:19</td>\n",
       "      <td>Explain to me again why we need a vaccine @Bor...</td>\n",
       "      <td>Twitter for iPhone</td>\n",
       "      <td>0</td>\n",
       "      <td>0</td>\n",
       "      <td>False</td>\n",
       "      <td></td>\n",
       "      <td></td>\n",
       "      <td></td>\n",
       "      <td></td>\n",
       "    </tr>\n",
       "  </tbody>\n",
       "</table>\n",
       "</div>"
      ],
      "text/plain": [
       "              user_name              user_location         user_created  \\\n",
       "0            Rachel Roh  La Crescenta-Montrose, CA  2009-04-08 17:52:46   \n",
       "1           Albert Fong          San Francisco, CA  2009-09-21 15:27:30   \n",
       "2              eli🇱🇹🇪🇺👌                   Your Bed  2020-06-25 23:30:28   \n",
       "3         Charles Adler     Vancouver, BC - Canada  2008-09-10 11:28:53   \n",
       "4  Citizen News Channel                       <NA>  2020-04-23 17:58:42   \n",
       "\n",
       "   user_followers  user_friends  user_favourites  user_verified  \\\n",
       "0             405          1692             3247          False   \n",
       "1             834           666              178          False   \n",
       "2              10            88              155          False   \n",
       "3           49165          3933            21853           True   \n",
       "4             152           580             1473          False   \n",
       "\n",
       "                  date                                               text  \\\n",
       "0  2020-12-20 06:06:44  Same folks said daikon paste could treat a cyt...   \n",
       "1  2020-12-13 16:27:13  While the world has been on the wrong side of ...   \n",
       "2  2020-12-12 20:33:45  #coronavirus #SputnikV #AstraZeneca #PfizerBio...   \n",
       "3  2020-12-12 20:23:59  Facts are immutable, Senator, even when you're...   \n",
       "4  2020-12-12 20:17:19  Explain to me again why we need a vaccine @Bor...   \n",
       "\n",
       "                source  retweets  favorites  is_retweet      user_city  \\\n",
       "0  Twitter for Android         0          0       False       Montrose   \n",
       "1      Twitter Web App         1          1       False  San Francisco   \n",
       "2  Twitter for Android         0          0       False                  \n",
       "3      Twitter Web App       446       2129       False      Vancouver   \n",
       "4   Twitter for iPhone         0          0       False                  \n",
       "\n",
       "  user_country city_latitude city_longitude  \n",
       "0           US     38.437539    -108.240386  \n",
       "1           US     37.779026    -122.419906  \n",
       "2                                            \n",
       "3           CA     49.260872    -123.113953  \n",
       "4                                            "
      ]
     },
     "execution_count": 215,
     "metadata": {},
     "output_type": "execute_result"
    }
   ],
   "source": [
    "df_tweets.head(5)"
   ]
  },
  {
   "cell_type": "markdown",
   "metadata": {},
   "source": [
    "### Data Engineering - Text Sentiment Analysis & Pre-Natural Language Processing\n",
    "Besides the spacial relationship, we are also interested in the content that users posted. To measure users' approval of the COVID-19 vaccine, we will approach with the sentiment score of the texts.\n",
    "\n",
    "The nltk library we will be using returns measures of postivity, negativity, neutrality, and a compound sentiment score of the text. The higher the compound sentiment score, the greater the approval.\n",
    "\n",
    "We will need to import the NLTK library and download some dictionaries to run certain methods."
   ]
  },
  {
   "cell_type": "code",
   "execution_count": 216,
   "metadata": {},
   "outputs": [
    {
     "name": "stderr",
     "output_type": "stream",
     "text": [
      "[nltk_data] Downloading package punkt to\n",
      "[nltk_data]     C:\\Users\\Wuyue\\AppData\\Roaming\\nltk_data...\n",
      "[nltk_data]   Package punkt is already up-to-date!\n",
      "[nltk_data] Downloading package stopwords to\n",
      "[nltk_data]     C:\\Users\\Wuyue\\AppData\\Roaming\\nltk_data...\n",
      "[nltk_data]   Package stopwords is already up-to-date!\n",
      "[nltk_data] Downloading package vader_lexicon to\n",
      "[nltk_data]     C:\\Users\\Wuyue\\AppData\\Roaming\\nltk_data...\n",
      "[nltk_data]   Package vader_lexicon is already up-to-date!\n"
     ]
    }
   ],
   "source": [
    "import nltk\n",
    "nltk.download('punkt')\n",
    "nltk.download('stopwords')\n",
    "nltk.download('vader_lexicon')\n",
    "from nltk.tokenize import word_tokenize\n",
    "from nltk.corpus import stopwords\n",
    "from nltk.sentiment import SentimentIntensityAnalyzer\n",
    "\n",
    "# load the sentiment function\n",
    "sia = SentimentIntensityAnalyzer()\n",
    "# load the stemmer function \n",
    "porter = nltk.PorterStemmer()"
   ]
  },
  {
   "cell_type": "markdown",
   "metadata": {},
   "source": [
    "How it works?"
   ]
  },
  {
   "cell_type": "code",
   "execution_count": 217,
   "metadata": {},
   "outputs": [
    {
     "data": {
      "text/plain": [
       "{'neg': 0.077, 'neu': 0.427, 'pos': 0.496, 'compound': 0.8955}"
      ]
     },
     "execution_count": 217,
     "metadata": {},
     "output_type": "execute_result"
    }
   ],
   "source": [
    "sia.polarity_scores('Why did the scarecrow win an award? Because he was outstanding in his field!')"
   ]
  },
  {
   "cell_type": "markdown",
   "metadata": {},
   "source": [
    "Now we will calculate the centiment score for each tweet, we will also store the words list in each tweet for future content analysis and visualizations."
   ]
  },
  {
   "cell_type": "code",
   "execution_count": 218,
   "metadata": {},
   "outputs": [],
   "source": [
    "# set stop words\n",
    "stop_words = set(stopwords.words('english'))\n",
    "\n",
    "# create new list for adding new columns\n",
    "tweet_NPL=[]\n",
    "neg_sentiment = []\n",
    "pos_sentiment = []\n",
    "neu_sentiment = []\n",
    "compound_sentiment = []\n",
    "\n",
    "\n",
    "# iterate through all rows and calcukate sentiment scores\n",
    "for index, row in df_tweets.iterrows():\n",
    "    \n",
    "    # we replace the URL to avoid unwanted clicking\n",
    "    # not doing this will result most sentiment scores become 0, so be carefull\n",
    "    tweet = row['text'].replace(\"://\", \"//\")\n",
    "    # the sentiment score is calculated by one line of code\n",
    "    # it returns a disctionary, so we need to name the score we want\n",
    "    neg_sentiment.append(sia.polarity_scores(tweet)['neg'])\n",
    "    pos_sentiment.append(sia.polarity_scores(tweet)['pos'])\n",
    "    neu_sentiment.append(sia.polarity_scores(tweet)['neu'])\n",
    "    compound_sentiment.append(sia.polarity_scores(tweet)['compound'])\n",
    "    # uncomment the following line, you will see the dictionary\n",
    "    # sentiment.append(sia.polarity_scores(tweet))\n",
    "    \n",
    "    \n",
    "    # now we need to extract usefull words from the text, it takes some steps\n",
    "    # we first splits up the sentence into words using the tokenize function\n",
    "    word_lists = word_tokenize(row['text'])\n",
    "    # we then turn every word into lower case\n",
    "    word_lists = [w.lower() for w in word_lists]\n",
    "    \n",
    "    # similar to stop words, we create a list of characters we don't want\n",
    "    unwanted_chars = ['.',':',',',\"n't\",\"'ve\",'http']\n",
    "    \n",
    "    # trim the word list using stop words and unwanted_chars\n",
    "    trimmed_word_list = [w for w in word_lists if not w in stop_words] \n",
    "    trimmed_word_list = [w for w in word_lists if not w in unwanted_chars] \n",
    "    # we also filter out the URL\n",
    "    trimmed_word_list = [w for w in trimmed_word_list if not w[:2]== \"//\"] \n",
    "    \n",
    "    # Now lets stem the words using the stemmer function we load earlier\n",
    "    trimmed_word_list  = [porter.stem(w) for w in trimmed_word_list]\n",
    "    # add it to the list we created\n",
    "    tweet_NPL.append(trimmed_word_list)\n",
    "\n",
    "# now we have new column variables for analysis\n",
    "df_tweets['text_words'] = tweet_NPL\n",
    "df_tweets['neg_sentiment'] = neg_sentiment\n",
    "df_tweets['pos_sentiment'] = pos_sentiment\n",
    "df_tweets['neu_sentiment'] = neu_sentiment\n",
    "df_tweets['compound_sentiment'] = compound_sentiment"
   ]
  },
  {
   "cell_type": "markdown",
   "metadata": {},
   "source": [
    "Let's do some simple checking...\n",
    "The following cell will demonstrate how we processed the tweet."
   ]
  },
  {
   "cell_type": "code",
   "execution_count": 219,
   "metadata": {},
   "outputs": [
    {
     "name": "stdout",
     "output_type": "stream",
     "text": [
      "Does anyone have any useful advice/guidance for whether the COVID vaccine is safe whilst breastfeeding?… https://t.co/EifsyQoeKN\n",
      "['doe', 'anyon', 'have', 'ani', 'use', 'advice/guid', 'for', 'whether', 'the', 'covid', 'vaccin', 'is', 'safe', 'whilst', 'breastfeed', '?', '…', 'http']\n",
      "0.0\n",
      "0.293\n",
      "0.707\n",
      "0.7003\n"
     ]
    }
   ],
   "source": [
    "print (df_tweets['text'][5])\n",
    "print (df_tweets['text_words'][5])\n",
    "print (df_tweets['neg_sentiment'][5])\n",
    "print (df_tweets['pos_sentiment'][5])\n",
    "print (df_tweets['neu_sentiment'][5])\n",
    "print (df_tweets['compound_sentiment'][5])"
   ]
  },
  {
   "cell_type": "markdown",
   "metadata": {},
   "source": [
    "## Data Exploration and Analysis\n",
    "The data cleaning and enginerring took about 80% of the time spent on this project so far. Now we can finaly start our analysis."
   ]
  },
  {
   "cell_type": "markdown",
   "metadata": {},
   "source": [
    "### What roles do social medias play in the spread of COVID-19 related information?"
   ]
  },
  {
   "cell_type": "code",
   "execution_count": 220,
   "metadata": {},
   "outputs": [
    {
     "data": {
      "text/plain": [
       "Text(0, 0.5, 'New Users Created')"
      ]
     },
     "execution_count": 220,
     "metadata": {},
     "output_type": "execute_result"
    },
    {
     "data": {
      "image/png": "[encoded data removed]",
      "text/plain": [
       "<Figure size 648x360 with 1 Axes>"
      ]
     },
     "metadata": {
      "needs_background": "light"
     },
     "output_type": "display_data"
    }
   ],
   "source": [
    "import datetime\n",
    "import matplotlib as plt\n",
    "df_tweets['user_created']=pd.to_datetime(tweets_df['user_created'])\n",
    "ax = df_tweets[\"user_created\"].hist(bins=16,figsize=(9,5))\n",
    "#ax.set_xlim([datetime.date(2017, 1, 1), datetime.date(2021, 2, 10)])\n",
    "ax.set_ylim([0, 650])\n",
    "ax.set_xlabel(\"Time\")\n",
    "ax.set_ylabel(\"New Users Created\")"
   ]
  },
  {
   "cell_type": "markdown",
   "metadata": {},
   "source": [
    "It seems like there is an increase in user creation after 2020. Let's take a closer look. "
   ]
  },
  {
   "cell_type": "code",
   "execution_count": 221,
   "metadata": {},
   "outputs": [
    {
     "data": {
      "text/plain": [
       "Text(0, 0.5, 'New Users Created')"
      ]
     },
     "execution_count": 221,
     "metadata": {},
     "output_type": "execute_result"
    },
    {
     "data": {
      "image/png": "[encoded data removed]",
      "text/plain": [
       "<Figure size 648x360 with 1 Axes>"
      ]
     },
     "metadata": {
      "needs_background": "light"
     },
     "output_type": "display_data"
    }
   ],
   "source": [
    "ax = df_tweets[\"user_created\"].hist(bins=16,figsize=(9,5))\n",
    "ax.set_xlim([datetime.date(2017, 1, 1), datetime.date(2021, 2, 10)])\n",
    "ax.set_ylim([0, 350])\n",
    "ax.set_xlabel(\"Time\")\n",
    "ax.set_ylabel(\"New Users Created\")"
   ]
  },
  {
   "cell_type": "markdown",
   "metadata": {},
   "source": [
    "### Analysis\n",
    "There is an increase in new user number right after the COVID-19 outbreak, we can assume they are related. This shows people use online social media platforms to obtain news and information."
   ]
  },
  {
   "cell_type": "markdown",
   "metadata": {},
   "source": [
    "### What cities generated the most discussions about the COVID vaccines?"
   ]
  },
  {
   "cell_type": "markdown",
   "metadata": {},
   "source": [
    "Let's first check the cities."
   ]
  },
  {
   "cell_type": "code",
   "execution_count": 222,
   "metadata": {
    "scrolled": true
   },
   "outputs": [
    {
     "data": {
      "image/png": "[encoded data removed]",
      "text/plain": [
       "<Figure size 360x432 with 1 Axes>"
      ]
     },
     "metadata": {
      "needs_background": "light"
     },
     "output_type": "display_data"
    }
   ],
   "source": [
    "df_cities = df_tweets.query(\"user_city != ''\")\n",
    "ax = df_cities['user_city'].value_counts(sort=False).nlargest(20).plot(kind='barh',figsize=(5,6))\n",
    "ax.invert_yaxis()"
   ]
  },
  {
   "cell_type": "markdown",
   "metadata": {},
   "source": [
    "Do we have users that tweets more frequently than others?"
   ]
  },
  {
   "cell_type": "code",
   "execution_count": 223,
   "metadata": {
    "scrolled": true
   },
   "outputs": [
    {
     "data": {
      "text/html": [
       "<div>\n",
       "<style scoped>\n",
       "    .dataframe tbody tr th:only-of-type {\n",
       "        vertical-align: middle;\n",
       "    }\n",
       "\n",
       "    .dataframe tbody tr th {\n",
       "        vertical-align: top;\n",
       "    }\n",
       "\n",
       "    .dataframe thead th {\n",
       "        text-align: right;\n",
       "    }\n",
       "</style>\n",
       "<table border=\"1\" class=\"dataframe\">\n",
       "  <thead>\n",
       "    <tr style=\"text-align: right;\">\n",
       "      <th></th>\n",
       "      <th>user_name</th>\n",
       "      <th>count</th>\n",
       "    </tr>\n",
       "  </thead>\n",
       "  <tbody>\n",
       "    <tr>\n",
       "      <th>0</th>\n",
       "      <td>TheRag</td>\n",
       "      <td>49</td>\n",
       "    </tr>\n",
       "    <tr>\n",
       "      <th>1</th>\n",
       "      <td>Ian 3.5% #FBPE</td>\n",
       "      <td>37</td>\n",
       "    </tr>\n",
       "    <tr>\n",
       "      <th>2</th>\n",
       "      <td>🕷Financial Bear 3.5%</td>\n",
       "      <td>31</td>\n",
       "    </tr>\n",
       "    <tr>\n",
       "      <th>3</th>\n",
       "      <td>Whtrslugcaviiersong#dontstayhomeandcatchcovid19</td>\n",
       "      <td>30</td>\n",
       "    </tr>\n",
       "    <tr>\n",
       "      <th>4</th>\n",
       "      <td>Simon Hodes ⬅️2m➡️ 😷</td>\n",
       "      <td>30</td>\n",
       "    </tr>\n",
       "    <tr>\n",
       "      <th>5</th>\n",
       "      <td>New Straits Times</td>\n",
       "      <td>30</td>\n",
       "    </tr>\n",
       "    <tr>\n",
       "      <th>6</th>\n",
       "      <td>Medical Study Blog</td>\n",
       "      <td>29</td>\n",
       "    </tr>\n",
       "    <tr>\n",
       "      <th>7</th>\n",
       "      <td>ILKHA</td>\n",
       "      <td>29</td>\n",
       "    </tr>\n",
       "    <tr>\n",
       "      <th>8</th>\n",
       "      <td>Khaleej Times</td>\n",
       "      <td>28</td>\n",
       "    </tr>\n",
       "    <tr>\n",
       "      <th>9</th>\n",
       "      <td>Dr.Krutika Kuppalli</td>\n",
       "      <td>27</td>\n",
       "    </tr>\n",
       "    <tr>\n",
       "      <th>10</th>\n",
       "      <td>Sue Reeve ♥️🧡💛💚💙💜🇪🇺🇪🇺🏳️‍🌈🏳️‍🌈</td>\n",
       "      <td>20</td>\n",
       "    </tr>\n",
       "    <tr>\n",
       "      <th>11</th>\n",
       "      <td>Marc Siegel MD</td>\n",
       "      <td>17</td>\n",
       "    </tr>\n",
       "    <tr>\n",
       "      <th>12</th>\n",
       "      <td>The Peninsula Qatar</td>\n",
       "      <td>17</td>\n",
       "    </tr>\n",
       "    <tr>\n",
       "      <th>13</th>\n",
       "      <td>Gulf News</td>\n",
       "      <td>16</td>\n",
       "    </tr>\n",
       "    <tr>\n",
       "      <th>14</th>\n",
       "      <td>ℙ𝕙𝕚𝕝 ⚒ #FBPE #RejoinEU #GTTO</td>\n",
       "      <td>15</td>\n",
       "    </tr>\n",
       "    <tr>\n",
       "      <th>15</th>\n",
       "      <td>Rose Webster</td>\n",
       "      <td>14</td>\n",
       "    </tr>\n",
       "    <tr>\n",
       "      <th>16</th>\n",
       "      <td>Opoyi</td>\n",
       "      <td>14</td>\n",
       "    </tr>\n",
       "    <tr>\n",
       "      <th>17</th>\n",
       "      <td>Tamer Yazar</td>\n",
       "      <td>13</td>\n",
       "    </tr>\n",
       "    <tr>\n",
       "      <th>18</th>\n",
       "      <td>حسن سجواني 🇦🇪 Hassan Sajwani</td>\n",
       "      <td>13</td>\n",
       "    </tr>\n",
       "    <tr>\n",
       "      <th>19</th>\n",
       "      <td>Scott Mackay 🇨🇦 🏃‍♂️ ☕️ 🍷 8⃣0⃣ 🎵</td>\n",
       "      <td>13</td>\n",
       "    </tr>\n",
       "    <tr>\n",
       "      <th>20</th>\n",
       "      <td>LatestLY</td>\n",
       "      <td>13</td>\n",
       "    </tr>\n",
       "    <tr>\n",
       "      <th>21</th>\n",
       "      <td>Post-Polio News (ppn)</td>\n",
       "      <td>12</td>\n",
       "    </tr>\n",
       "    <tr>\n",
       "      <th>22</th>\n",
       "      <td>Laszlo Szegedi Dr⚖§ #FBPE🇪🇺🇬🇧🇭🇺</td>\n",
       "      <td>12</td>\n",
       "    </tr>\n",
       "    <tr>\n",
       "      <th>23</th>\n",
       "      <td>Financial Mirror</td>\n",
       "      <td>12</td>\n",
       "    </tr>\n",
       "    <tr>\n",
       "      <th>24</th>\n",
       "      <td>IANS Tweets</td>\n",
       "      <td>12</td>\n",
       "    </tr>\n",
       "    <tr>\n",
       "      <th>25</th>\n",
       "      <td>ocean girl</td>\n",
       "      <td>12</td>\n",
       "    </tr>\n",
       "    <tr>\n",
       "      <th>26</th>\n",
       "      <td>kambiz mahmoudpour - مسول انجمن آزادی ادیان</td>\n",
       "      <td>12</td>\n",
       "    </tr>\n",
       "    <tr>\n",
       "      <th>27</th>\n",
       "      <td>Jackson Health System</td>\n",
       "      <td>11</td>\n",
       "    </tr>\n",
       "    <tr>\n",
       "      <th>28</th>\n",
       "      <td>🚶🏻Curtis S. Chin</td>\n",
       "      <td>11</td>\n",
       "    </tr>\n",
       "    <tr>\n",
       "      <th>29</th>\n",
       "      <td>Alex777</td>\n",
       "      <td>11</td>\n",
       "    </tr>\n",
       "  </tbody>\n",
       "</table>\n",
       "</div>"
      ],
      "text/plain": [
       "                                          user_name  count\n",
       "0                                            TheRag     49\n",
       "1                                    Ian 3.5% #FBPE     37\n",
       "2                              🕷Financial Bear 3.5%     31\n",
       "3   Whtrslugcaviiersong#dontstayhomeandcatchcovid19     30\n",
       "4                              Simon Hodes ⬅️2m➡️ 😷     30\n",
       "5                                 New Straits Times     30\n",
       "6                                Medical Study Blog     29\n",
       "7                                             ILKHA     29\n",
       "8                                     Khaleej Times     28\n",
       "9                               Dr.Krutika Kuppalli     27\n",
       "10                    Sue Reeve ♥️🧡💛💚💙💜🇪🇺🇪🇺🏳️‍🌈🏳️‍🌈     20\n",
       "11                                   Marc Siegel MD     17\n",
       "12                              The Peninsula Qatar     17\n",
       "13                                        Gulf News     16\n",
       "14                     ℙ𝕙𝕚𝕝 ⚒ #FBPE #RejoinEU #GTTO     15\n",
       "15                                     Rose Webster     14\n",
       "16                                            Opoyi     14\n",
       "17                                      Tamer Yazar     13\n",
       "18                     حسن سجواني 🇦🇪 Hassan Sajwani     13\n",
       "19                 Scott Mackay 🇨🇦 🏃‍♂️ ☕️ 🍷 8⃣0⃣ 🎵     13\n",
       "20                                         LatestLY     13\n",
       "21                            Post-Polio News (ppn)     12\n",
       "22                  Laszlo Szegedi Dr⚖§ #FBPE🇪🇺🇬🇧🇭🇺     12\n",
       "23                                 Financial Mirror     12\n",
       "24                                      IANS Tweets     12\n",
       "25                                       ocean girl     12\n",
       "26      kambiz mahmoudpour - مسول انجمن آزادی ادیان     12\n",
       "27                            Jackson Health System     11\n",
       "28                                 🚶🏻Curtis S. Chin     11\n",
       "29                                          Alex777     11"
      ]
     },
     "execution_count": 223,
     "metadata": {},
     "output_type": "execute_result"
    }
   ],
   "source": [
    "df_users=pd.read_csv('vaccination_tweets.csv')\n",
    "frequent_tweeters = df_tweets['user_name'].value_counts().head(30).to_frame().reset_index()\n",
    "frequent_tweeters.columns = ['user_name', 'count']\n",
    "frequent_tweeters.head(30)"
   ]
  },
  {
   "cell_type": "markdown",
   "metadata": {},
   "source": [
    "Where are they tweeting from?"
   ]
  },
  {
   "cell_type": "code",
   "execution_count": 224,
   "metadata": {
    "scrolled": false
   },
   "outputs": [
    {
     "data": {
      "text/plain": [
       "country  city     \n",
       "AE       Dubai        13\n",
       "CA       Cornwall     37\n",
       "GB       Watford      30\n",
       "         Glasgow      20\n",
       "         Poole        12\n",
       "IN       Mumbai       13\n",
       "         New Delhi    12\n",
       "PH       Asia         11\n",
       "US       Miami        11\n",
       "Name: city, dtype: int64"
      ]
     },
     "execution_count": 224,
     "metadata": {},
     "output_type": "execute_result"
    }
   ],
   "source": [
    "cities = []\n",
    "countries = []\n",
    "for index, row in df_tweets.iterrows():\n",
    "    if row['user_name'] in list(frequent_tweeters['user_name']):\n",
    "        if row['user_city'] and row['user_country']:\n",
    "            cities.append(row['user_city'])\n",
    "            countries.append(row['user_country'])\n",
    "pairs = {'city': cities , 'country': countries}\n",
    "df = pd.DataFrame(pairs)\n",
    "df.groupby('country')['city'].value_counts()"
   ]
  },
  {
   "cell_type": "markdown",
   "metadata": {},
   "source": [
    "What about the countries?"
   ]
  },
  {
   "cell_type": "code",
   "execution_count": 225,
   "metadata": {},
   "outputs": [
    {
     "data": {
      "image/png": "[encoded data removed]",
      "text/plain": [
       "<Figure size 360x432 with 1 Axes>"
      ]
     },
     "metadata": {
      "needs_background": "light"
     },
     "output_type": "display_data"
    }
   ],
   "source": [
    "df_countries = df_tweets.query(\"user_country != ''\")\n",
    "ax = df_countries['user_country'].value_counts(sort=False).nlargest(10).plot(kind='barh',figsize=(5,6))\n",
    "ax.invert_yaxis()"
   ]
  },
  {
   "cell_type": "markdown",
   "metadata": {},
   "source": [
    "Notice that the United States has the most users number in the dataset, we want to take a look at what U.S cities care most about vaccine. We also want to see what makes them stand out and possible reasons behind this."
   ]
  },
  {
   "cell_type": "code",
   "execution_count": 226,
   "metadata": {
    "scrolled": true
   },
   "outputs": [
    {
     "data": {
      "image/png": "[encoded data removed]",
      "text/plain": [
       "<Figure size 360x432 with 1 Axes>"
      ]
     },
     "metadata": {
      "needs_background": "light"
     },
     "output_type": "display_data"
    }
   ],
   "source": [
    "df_UStweets = df_tweets.query(\"user_country == 'US'\")\n",
    "ax = df_UStweets['user_city'].value_counts(sort=False).nlargest(10).plot(kind='barh',figsize=(5,6))\n",
    "ax.invert_yaxis()"
   ]
  },
  {
   "cell_type": "markdown",
   "metadata": {},
   "source": [
    "### Analysis"
   ]
  },
  {
   "cell_type": "markdown",
   "metadata": {},
   "source": [
    "### Sentiment Measure vs. Location\n",
    "With location data and sentiment score, we can quantify the public approval of vaccines for different cities and countries.\n",
    "We will first get the global response for all posts."
   ]
  },
  {
   "cell_type": "code",
   "execution_count": 227,
   "metadata": {
    "scrolled": true
   },
   "outputs": [
    {
     "name": "stdout",
     "output_type": "stream",
     "text": [
      "0.119945889136905\n"
     ]
    },
    {
     "data": {
      "text/plain": [
       "Text(0.5, 0, 'Compound Sentiment')"
      ]
     },
     "execution_count": 227,
     "metadata": {},
     "output_type": "execute_result"
    },
    {
     "data": {
      "image/png": "[encoded data removed]",
      "text/plain": [
       "<Figure size 432x288 with 1 Axes>"
      ]
     },
     "metadata": {
      "needs_background": "light"
     },
     "output_type": "display_data"
    }
   ],
   "source": [
    "ax = df_tweets['compound_sentiment'].plot.hist(stacked=True,bins=20)\n",
    "print(df_tweets['compound_sentiment'].mean())\n",
    "ax.legend()\n",
    "ax.set_xlabel(\"Compound Sentiment\")"
   ]
  },
  {
   "cell_type": "markdown",
   "metadata": {},
   "source": [
    "We can see most posts are neutral, and there are more 'positive' posts than 'negative' ones, which yields a positive average sentiment score. This is a good sign for puplic's acceptance of the vaccine.\n",
    "\n",
    "Now let's take a look at the scores of different countries."
   ]
  },
  {
   "cell_type": "code",
   "execution_count": 228,
   "metadata": {},
   "outputs": [
    {
     "data": {
      "image/png": "[encoded data removed]",
      "text/plain": [
       "<Figure size 648x432 with 4 Axes>"
      ]
     },
     "metadata": {
      "needs_background": "light"
     },
     "output_type": "display_data"
    }
   ],
   "source": [
    "import matplotlib.pyplot as plt\n",
    "fig = plt.figure(figsize=(9,6))\n",
    "\n",
    "# Divide the figure into a 1x2 grid, and give me the first section\n",
    "# ax1 = fig.add_subplot(2, 2, (1,2))\n",
    "ax1 = fig.add_subplot(2, 2, 1)\n",
    "ax2 = fig.add_subplot(2, 2, 2)\n",
    "ax3 = fig.add_subplot(2, 2, 3)\n",
    "ax4 = fig.add_subplot(2, 2, 4)\n",
    "axs = [ax1,ax2,ax3,ax4]\n",
    "contries = ['US','GB','IN','CA']\n",
    "contries_full = [\"U.S\",\"United Kingdom\",\"India\",\"Canada\"]\n",
    "\n",
    "for i in range(len(axs)):\n",
    "    df_tweets.query(\"user_country == '\"+ contries[i] + \"'\" )['compound_sentiment'].plot.hist(stacked=True,bins=20, ax=axs[i])\n",
    "    axs[i].set(xlabel='sentiment score', ylabel='Frequency', title=contries_full[i] )\n",
    "\n",
    "plt.tight_layout()\n",
    "plt.show()"
   ]
  },
  {
   "cell_type": "code",
   "execution_count": 229,
   "metadata": {},
   "outputs": [
    {
     "data": {
      "image/png": "[encoded data removed]",
      "text/plain": [
       "<Figure size 648x648 with 8 Axes>"
      ]
     },
     "metadata": {
      "needs_background": "light"
     },
     "output_type": "display_data"
    }
   ],
   "source": [
    "fig = plt.figure(figsize=(9,9))\n",
    "# Divide the figure into a 4x2 grid, the first section is ax1 = fig.add_subplot(2, 2, (1,2))\n",
    "axs = []\n",
    "for i in range(1,9):\n",
    "    axs.append(fig.add_subplot(4, 2, i))\n",
    "cities = ['London','Dubai','Toronto','New Delhi','Mumbai','New York','Chicago','Boston']\n",
    "\n",
    "for i in range(len(axs)):\n",
    "    df_tweets.query(\"user_city == '\"+ cities[i] + \"'\" )['compound_sentiment'].plot.hist(stacked=True,bins=10, ax=axs[i])\n",
    "    axs[i].set(xlabel='sentiment score', ylabel='Frequency', title=cities[i] )\n",
    "    axs[i].set_xlim(-1,1)\n",
    "\n",
    "plt.tight_layout()\n",
    "plt.show()"
   ]
  },
  {
   "cell_type": "markdown",
   "metadata": {},
   "source": [
    "### Analysis"
   ]
  },
  {
   "cell_type": "code",
   "execution_count": 230,
   "metadata": {},
   "outputs": [
    {
     "data": {
      "text/plain": [
       "Index(['user_name', 'user_location', 'user_created', 'user_followers',\n",
       "       'user_friends', 'user_favourites', 'user_verified', 'date', 'text',\n",
       "       'source', 'retweets', 'favorites', 'is_retweet', 'user_city',\n",
       "       'user_country', 'city_latitude', 'city_longitude', 'text_words',\n",
       "       'neg_sentiment', 'pos_sentiment', 'neu_sentiment',\n",
       "       'compound_sentiment'],\n",
       "      dtype='object')"
      ]
     },
     "execution_count": 230,
     "metadata": {},
     "output_type": "execute_result"
    }
   ],
   "source": [
    "df_tweets.columns"
   ]
  },
  {
   "cell_type": "code",
   "execution_count": 233,
   "metadata": {},
   "outputs": [
    {
     "data": {
      "text/html": [
       "<div>\n",
       "<style scoped>\n",
       "    .dataframe tbody tr th:only-of-type {\n",
       "        vertical-align: middle;\n",
       "    }\n",
       "\n",
       "    .dataframe tbody tr th {\n",
       "        vertical-align: top;\n",
       "    }\n",
       "\n",
       "    .dataframe thead th {\n",
       "        text-align: right;\n",
       "    }\n",
       "</style>\n",
       "<table border=\"1\" class=\"dataframe\">\n",
       "  <thead>\n",
       "    <tr style=\"text-align: right;\">\n",
       "      <th></th>\n",
       "      <th>user_city</th>\n",
       "      <th>city_latitude</th>\n",
       "      <th>city_longitude</th>\n",
       "      <th>compound_sentiment</th>\n",
       "    </tr>\n",
       "  </thead>\n",
       "  <tbody>\n",
       "    <tr>\n",
       "      <th>0</th>\n",
       "      <td>Montrose</td>\n",
       "      <td>38.437539</td>\n",
       "      <td>-108.240386</td>\n",
       "      <td>0.4019</td>\n",
       "    </tr>\n",
       "    <tr>\n",
       "      <th>1</th>\n",
       "      <td>San Francisco</td>\n",
       "      <td>37.779026</td>\n",
       "      <td>-122.419906</td>\n",
       "      <td>-0.1027</td>\n",
       "    </tr>\n",
       "    <tr>\n",
       "      <th>3</th>\n",
       "      <td>Vancouver</td>\n",
       "      <td>49.260872</td>\n",
       "      <td>-123.113953</td>\n",
       "      <td>0.0000</td>\n",
       "    </tr>\n",
       "    <tr>\n",
       "      <th>5</th>\n",
       "      <td>Birmingham</td>\n",
       "      <td>52.479699</td>\n",
       "      <td>-1.902691</td>\n",
       "      <td>0.7003</td>\n",
       "    </tr>\n",
       "    <tr>\n",
       "      <th>9</th>\n",
       "      <td>Islamabad</td>\n",
       "      <td>33.693812</td>\n",
       "      <td>73.065151</td>\n",
       "      <td>0.0000</td>\n",
       "    </tr>\n",
       "    <tr>\n",
       "      <th>...</th>\n",
       "      <td>...</td>\n",
       "      <td>...</td>\n",
       "      <td>...</td>\n",
       "      <td>...</td>\n",
       "    </tr>\n",
       "    <tr>\n",
       "      <th>5358</th>\n",
       "      <td>Vancouver</td>\n",
       "      <td>49.260872</td>\n",
       "      <td>-123.113953</td>\n",
       "      <td>0.2500</td>\n",
       "    </tr>\n",
       "    <tr>\n",
       "      <th>5364</th>\n",
       "      <td>Paris</td>\n",
       "      <td>48.856697</td>\n",
       "      <td>2.351462</td>\n",
       "      <td>0.7351</td>\n",
       "    </tr>\n",
       "    <tr>\n",
       "      <th>5369</th>\n",
       "      <td>Ontario</td>\n",
       "      <td>50.000678</td>\n",
       "      <td>-86.000977</td>\n",
       "      <td>0.0000</td>\n",
       "    </tr>\n",
       "    <tr>\n",
       "      <th>5370</th>\n",
       "      <td>Hamburg</td>\n",
       "      <td>53.550341</td>\n",
       "      <td>10.000654</td>\n",
       "      <td>-0.2960</td>\n",
       "    </tr>\n",
       "    <tr>\n",
       "      <th>5371</th>\n",
       "      <td>Leeds</td>\n",
       "      <td>53.797418</td>\n",
       "      <td>-1.543794</td>\n",
       "      <td>0.6705</td>\n",
       "    </tr>\n",
       "  </tbody>\n",
       "</table>\n",
       "<p>2106 rows × 4 columns</p>\n",
       "</div>"
      ],
      "text/plain": [
       "          user_city city_latitude city_longitude  compound_sentiment\n",
       "0          Montrose     38.437539    -108.240386              0.4019\n",
       "1     San Francisco     37.779026    -122.419906             -0.1027\n",
       "3         Vancouver     49.260872    -123.113953              0.0000\n",
       "5        Birmingham     52.479699      -1.902691              0.7003\n",
       "9         Islamabad     33.693812      73.065151              0.0000\n",
       "...             ...           ...            ...                 ...\n",
       "5358      Vancouver     49.260872    -123.113953              0.2500\n",
       "5364          Paris     48.856697       2.351462              0.7351\n",
       "5369        Ontario     50.000678     -86.000977              0.0000\n",
       "5370        Hamburg     53.550341      10.000654             -0.2960\n",
       "5371          Leeds     53.797418      -1.543794              0.6705\n",
       "\n",
       "[2106 rows x 4 columns]"
      ]
     },
     "execution_count": 233,
     "metadata": {},
     "output_type": "execute_result"
    }
   ],
   "source": [
    "df_map = df_tweets[['user_city','city_latitude','city_longitude','compound_sentiment']].query(\"user_city != ''\")\n",
    "df_map"
   ]
  },
  {
   "cell_type": "code",
   "execution_count": 248,
   "metadata": {},
   "outputs": [
    {
     "data": {
      "text/html": [
       "<div>\n",
       "<style scoped>\n",
       "    .dataframe tbody tr th:only-of-type {\n",
       "        vertical-align: middle;\n",
       "    }\n",
       "\n",
       "    .dataframe tbody tr th {\n",
       "        vertical-align: top;\n",
       "    }\n",
       "\n",
       "    .dataframe thead th {\n",
       "        text-align: right;\n",
       "    }\n",
       "</style>\n",
       "<table border=\"1\" class=\"dataframe\">\n",
       "  <thead>\n",
       "    <tr style=\"text-align: right;\">\n",
       "      <th></th>\n",
       "      <th>compound_sentiment</th>\n",
       "    </tr>\n",
       "    <tr>\n",
       "      <th>user_city</th>\n",
       "      <th></th>\n",
       "    </tr>\n",
       "  </thead>\n",
       "  <tbody>\n",
       "    <tr>\n",
       "      <th>Abu Dhabi</th>\n",
       "      <td>0.132443</td>\n",
       "    </tr>\n",
       "    <tr>\n",
       "      <th>Abuja</th>\n",
       "      <td>0.000000</td>\n",
       "    </tr>\n",
       "    <tr>\n",
       "      <th>Accra</th>\n",
       "      <td>0.000000</td>\n",
       "    </tr>\n",
       "    <tr>\n",
       "      <th>Addis Ababa</th>\n",
       "      <td>-0.557400</td>\n",
       "    </tr>\n",
       "    <tr>\n",
       "      <th>Adelaide</th>\n",
       "      <td>-0.401900</td>\n",
       "    </tr>\n",
       "    <tr>\n",
       "      <th>...</th>\n",
       "      <td>...</td>\n",
       "    </tr>\n",
       "    <tr>\n",
       "      <th>Wollongong</th>\n",
       "      <td>0.272233</td>\n",
       "    </tr>\n",
       "    <tr>\n",
       "      <th>Wolverhampton</th>\n",
       "      <td>0.554950</td>\n",
       "    </tr>\n",
       "    <tr>\n",
       "      <th>Worcester</th>\n",
       "      <td>0.408100</td>\n",
       "    </tr>\n",
       "    <tr>\n",
       "      <th>York</th>\n",
       "      <td>0.190760</td>\n",
       "    </tr>\n",
       "    <tr>\n",
       "      <th>Zapopan</th>\n",
       "      <td>-0.194050</td>\n",
       "    </tr>\n",
       "  </tbody>\n",
       "</table>\n",
       "<p>508 rows × 1 columns</p>\n",
       "</div>"
      ],
      "text/plain": [
       "               compound_sentiment\n",
       "user_city                        \n",
       "Abu Dhabi                0.132443\n",
       "Abuja                    0.000000\n",
       "Accra                    0.000000\n",
       "Addis Ababa             -0.557400\n",
       "Adelaide                -0.401900\n",
       "...                           ...\n",
       "Wollongong               0.272233\n",
       "Wolverhampton            0.554950\n",
       "Worcester                0.408100\n",
       "York                     0.190760\n",
       "Zapopan                 -0.194050\n",
       "\n",
       "[508 rows x 1 columns]"
      ]
     },
     "execution_count": 248,
     "metadata": {},
     "output_type": "execute_result"
    }
   ],
   "source": [
    "df_map = df_map.groupby(['user_city']).mean()\n",
    "df_map"
   ]
  },
  {
   "cell_type": "code",
   "execution_count": 238,
   "metadata": {},
   "outputs": [
    {
     "data": {
      "text/html": [
       "<div>\n",
       "<style scoped>\n",
       "    .dataframe tbody tr th:only-of-type {\n",
       "        vertical-align: middle;\n",
       "    }\n",
       "\n",
       "    .dataframe tbody tr th {\n",
       "        vertical-align: top;\n",
       "    }\n",
       "\n",
       "    .dataframe thead th {\n",
       "        text-align: right;\n",
       "    }\n",
       "</style>\n",
       "<table border=\"1\" class=\"dataframe\">\n",
       "  <thead>\n",
       "    <tr style=\"text-align: right;\">\n",
       "      <th></th>\n",
       "      <th>user_city</th>\n",
       "    </tr>\n",
       "  </thead>\n",
       "  <tbody>\n",
       "    <tr>\n",
       "      <th>London</th>\n",
       "      <td>199</td>\n",
       "    </tr>\n",
       "    <tr>\n",
       "      <th>Dubai</th>\n",
       "      <td>65</td>\n",
       "    </tr>\n",
       "    <tr>\n",
       "      <th>New York</th>\n",
       "      <td>56</td>\n",
       "    </tr>\n",
       "    <tr>\n",
       "      <th>Toronto</th>\n",
       "      <td>53</td>\n",
       "    </tr>\n",
       "    <tr>\n",
       "      <th>New Delhi</th>\n",
       "      <td>53</td>\n",
       "    </tr>\n",
       "    <tr>\n",
       "      <th>...</th>\n",
       "      <td>...</td>\n",
       "    </tr>\n",
       "    <tr>\n",
       "      <th>Tokyo</th>\n",
       "      <td>1</td>\n",
       "    </tr>\n",
       "    <tr>\n",
       "      <th>Sandy</th>\n",
       "      <td>1</td>\n",
       "    </tr>\n",
       "    <tr>\n",
       "      <th>Davenport</th>\n",
       "      <td>1</td>\n",
       "    </tr>\n",
       "    <tr>\n",
       "      <th>Parma</th>\n",
       "      <td>1</td>\n",
       "    </tr>\n",
       "    <tr>\n",
       "      <th>Cheshire</th>\n",
       "      <td>1</td>\n",
       "    </tr>\n",
       "  </tbody>\n",
       "</table>\n",
       "<p>508 rows × 1 columns</p>\n",
       "</div>"
      ],
      "text/plain": [
       "           user_city\n",
       "London           199\n",
       "Dubai             65\n",
       "New York          56\n",
       "Toronto           53\n",
       "New Delhi         53\n",
       "...              ...\n",
       "Tokyo              1\n",
       "Sandy              1\n",
       "Davenport          1\n",
       "Parma              1\n",
       "Cheshire           1\n",
       "\n",
       "[508 rows x 1 columns]"
      ]
     },
     "execution_count": 238,
     "metadata": {},
     "output_type": "execute_result"
    }
   ],
   "source": [
    "df_map['user_city'].value_counts(sort=True).to_frame()"
   ]
  },
  {
   "cell_type": "code",
   "execution_count": null,
   "metadata": {},
   "outputs": [],
   "source": []
  }
 ],
 "metadata": {
  "kernelspec": {
   "display_name": "Python 3",
   "language": "python",
   "name": "python3"
  },
  "language_info": {
   "codemirror_mode": {
    "name": "ipython",
    "version": 3
   },
   "file_extension": ".py",
   "mimetype": "text/x-python",
   "name": "python",
   "nbconvert_exporter": "python",
   "pygments_lexer": "ipython3",
   "version": "3.8.5"
  }
 },
 "nbformat": 4,
 "nbformat_minor": 4
}
